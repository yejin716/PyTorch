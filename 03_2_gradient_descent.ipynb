{
 "cells": [
  {
   "cell_type": "markdown",
   "metadata": {},
   "source": [
    "# Gradient Descent"
   ]
  },
  {
   "cell_type": "code",
   "execution_count": 1,
   "metadata": {},
   "outputs": [],
   "source": [
    "import torch\n",
    "import torch.nn.functional as F"
   ]
  },
  {
   "cell_type": "code",
   "execution_count": 2,
   "metadata": {},
   "outputs": [
    {
     "data": {
      "text/plain": [
       "tensor([[0.1000, 0.2000, 0.3000],\n",
       "        [0.4000, 0.5000, 0.6000],\n",
       "        [0.7000, 0.8000, 0.9000]])"
      ]
     },
     "execution_count": 2,
     "metadata": {},
     "output_type": "execute_result"
    }
   ],
   "source": [
    "target = torch.FloatTensor([[.1, .2, .3],\n",
    "                            [.4, .5, .6],\n",
    "                            [.7, .8, .9]])\n",
    "\n",
    "target"
   ]
  },
  {
   "cell_type": "code",
   "execution_count": 3,
   "metadata": {},
   "outputs": [
    {
     "data": {
      "text/plain": [
       "tensor([[0.0690, 0.4316, 0.8808],\n",
       "        [0.8829, 0.3171, 0.9961],\n",
       "        [0.0904, 0.2840, 0.8670]], requires_grad=True)"
      ]
     },
     "execution_count": 3,
     "metadata": {},
     "output_type": "execute_result"
    }
   ],
   "source": [
    "x = torch.rand_like(target)\n",
    "# This means the final scalar will be differentiate by x.\n",
    "x.requires_grad = True\n",
    "# You can get gradient of x, after differentiation.\n",
    "\n",
    "x"
   ]
  },
  {
   "cell_type": "code",
   "execution_count": 4,
   "metadata": {},
   "outputs": [
    {
     "data": {
      "text/plain": [
       "tensor(0.1616, grad_fn=<MseLossBackward0>)"
      ]
     },
     "execution_count": 4,
     "metadata": {},
     "output_type": "execute_result"
    }
   ],
   "source": [
    "loss = F.mse_loss(x, target)\n",
    "\n",
    "loss"
   ]
  },
  {
   "cell_type": "code",
   "execution_count": 5,
   "metadata": {
    "scrolled": false
   },
   "outputs": [
    {
     "name": "stdout",
     "output_type": "stream",
     "text": [
      "1-th Loss: 9.7759e-02\n",
      "tensor([[0.0759, 0.3801, 0.7517],\n",
      "        [0.7756, 0.3578, 0.9080],\n",
      "        [0.2258, 0.3986, 0.8743]], requires_grad=True)\n",
      "2-th Loss: 5.9138e-02\n",
      "tensor([[0.0813, 0.3401, 0.6513],\n",
      "        [0.6921, 0.3894, 0.8396],\n",
      "        [0.3312, 0.4878, 0.8800]], requires_grad=True)\n",
      "3-th Loss: 3.5775e-02\n",
      "tensor([[0.0854, 0.3090, 0.5733],\n",
      "        [0.6272, 0.4140, 0.7863],\n",
      "        [0.4132, 0.5572, 0.8845]], requires_grad=True)\n",
      "4-th Loss: 2.1642e-02\n",
      "tensor([[0.0887, 0.2847, 0.5125],\n",
      "        [0.5767, 0.4331, 0.7449],\n",
      "        [0.4769, 0.6112, 0.8879]], requires_grad=True)\n",
      "5-th Loss: 1.3092e-02\n",
      "tensor([[0.0912, 0.2659, 0.4653],\n",
      "        [0.5374, 0.4479, 0.7127],\n",
      "        [0.5265, 0.6531, 0.8906]], requires_grad=True)\n",
      "6-th Loss: 7.9197e-03\n",
      "tensor([[0.0931, 0.2513, 0.4286],\n",
      "        [0.5069, 0.4595, 0.6877],\n",
      "        [0.5650, 0.6858, 0.8927]], requires_grad=True)\n",
      "7-th Loss: 4.7910e-03\n",
      "tensor([[0.0947, 0.2399, 0.4000],\n",
      "        [0.4831, 0.4685, 0.6682],\n",
      "        [0.5950, 0.7111, 0.8943]], requires_grad=True)\n",
      "8-th Loss: 2.8982e-03\n",
      "tensor([[0.0959, 0.2310, 0.3778],\n",
      "        [0.4647, 0.4755, 0.6530],\n",
      "        [0.6184, 0.7309, 0.8956]], requires_grad=True)\n",
      "9-th Loss: 1.7533e-03\n",
      "tensor([[0.0968, 0.2241, 0.3605],\n",
      "        [0.4503, 0.4810, 0.6413],\n",
      "        [0.6365, 0.7463, 0.8966]], requires_grad=True)\n",
      "10-th Loss: 1.0606e-03\n",
      "tensor([[0.0975, 0.2188, 0.3471],\n",
      "        [0.4391, 0.4852, 0.6321],\n",
      "        [0.6506, 0.7582, 0.8973]], requires_grad=True)\n",
      "11-th Loss: 6.4160e-04\n",
      "tensor([[0.0980, 0.2146, 0.3366],\n",
      "        [0.4304, 0.4885, 0.6250],\n",
      "        [0.6616, 0.7675, 0.8979]], requires_grad=True)\n",
      "12-th Loss: 3.8813e-04\n",
      "tensor([[0.0985, 0.2113, 0.3285],\n",
      "        [0.4237, 0.4910, 0.6194],\n",
      "        [0.6701, 0.7747, 0.8984]], requires_grad=True)\n",
      "13-th Loss: 2.3479e-04\n",
      "tensor([[0.0988, 0.2088, 0.3221],\n",
      "        [0.4184, 0.4930, 0.6151],\n",
      "        [0.6768, 0.7803, 0.8987]], requires_grad=True)\n",
      "14-th Loss: 1.4204e-04\n",
      "tensor([[0.0991, 0.2069, 0.3172],\n",
      "        [0.4143, 0.4946, 0.6117],\n",
      "        [0.6819, 0.7847, 0.8990]], requires_grad=True)\n",
      "15-th Loss: 8.5923e-05\n",
      "tensor([[0.0993, 0.2053, 0.3134],\n",
      "        [0.4111, 0.4958, 0.6091],\n",
      "        [0.6859, 0.7881, 0.8992]], requires_grad=True)\n",
      "16-th Loss: 5.1978e-05\n",
      "tensor([[0.0994, 0.2042, 0.3104],\n",
      "        [0.4087, 0.4967, 0.6071],\n",
      "        [0.6891, 0.7907, 0.8994]], requires_grad=True)\n",
      "17-th Loss: 3.1444e-05\n",
      "tensor([[0.0996, 0.2032, 0.3081],\n",
      "        [0.4067, 0.4974, 0.6055],\n",
      "        [0.6915, 0.7928, 0.8995]], requires_grad=True)\n",
      "18-th Loss: 1.9021e-05\n",
      "tensor([[0.0997, 0.2025, 0.3063],\n",
      "        [0.4052, 0.4980, 0.6043],\n",
      "        [0.6934, 0.7944, 0.8996]], requires_grad=True)\n",
      "19-th Loss: 1.1507e-05\n",
      "tensor([[0.0997, 0.2020, 0.3049],\n",
      "        [0.4041, 0.4985, 0.6033],\n",
      "        [0.6949, 0.7956, 0.8997]], requires_grad=True)\n",
      "20-th Loss: 6.9609e-06\n",
      "tensor([[0.0998, 0.2015, 0.3038],\n",
      "        [0.4032, 0.4988, 0.6026],\n",
      "        [0.6960, 0.7966, 0.8998]], requires_grad=True)\n"
     ]
    }
   ],
   "source": [
    "threshold = 1e-5\n",
    "learning_rate = 1.\n",
    "iter_cnt = 0\n",
    "\n",
    "while loss > threshold:\n",
    "    iter_cnt += 1\n",
    "    \n",
    "    loss.backward() # Calculate gradients. 미분 \n",
    "\n",
    "    x = x - learning_rate * x.grad\n",
    "    \n",
    "    x.detach_()\n",
    "    x.requires_grad_(True)\n",
    "    \n",
    "    loss = F.mse_loss(x, target)\n",
    "    \n",
    "    print('%d-th Loss: %.4e' % (iter_cnt, loss))\n",
    "    print(x)"
   ]
  },
  {
   "cell_type": "code",
   "execution_count": null,
   "metadata": {},
   "outputs": [],
   "source": []
  }
 ],
 "metadata": {
  "kernelspec": {
   "display_name": "Python 3",
   "language": "python",
   "name": "python3"
  },
  "language_info": {
   "codemirror_mode": {
    "name": "ipython",
    "version": 3
   },
   "file_extension": ".py",
   "mimetype": "text/x-python",
   "name": "python",
   "nbconvert_exporter": "python",
   "pygments_lexer": "ipython3",
   "version": "3.11.7"
  }
 },
 "nbformat": 4,
 "nbformat_minor": 2
}
