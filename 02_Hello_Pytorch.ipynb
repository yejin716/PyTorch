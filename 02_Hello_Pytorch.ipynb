{
  "nbformat": 4,
  "nbformat_minor": 0,
  "metadata": {
    "colab": {
      "provenance": []
    },
    "kernelspec": {
      "name": "python3",
      "display_name": "Python 3"
    },
    "language_info": {
      "name": "python"
    }
  },
  "cells": [
    {
      "cell_type": "markdown",
      "source": [
        "딥러닝을 위한 수학 기초"
      ],
      "metadata": {
        "id": "BTcVfPDsdvai"
      }
    },
    {
      "cell_type": "code",
      "execution_count": 1,
      "metadata": {
        "colab": {
          "base_uri": "https://localhost:8080/"
        },
        "id": "xp6ttg3MdphX",
        "outputId": "7fd3ce61-7161-4b52-a29c-d8e5d80e0876"
      },
      "outputs": [
        {
          "output_type": "stream",
          "name": "stdout",
          "text": [
            "[1, 2, 3, 4, 5, 6, 7, 8, 9, 10]\n"
          ]
        }
      ],
      "source": [
        "n = 10\n",
        "x = [i + 1 for i in range(n)]\n",
        "print(x)"
      ]
    },
    {
      "cell_type": "code",
      "source": [
        "#sum\n",
        "n = 10\n",
        "x = [i + 1 for i in range(n)]\n",
        "\n",
        "ret = 0\n",
        "for j in x:\n",
        "    ret += j\n",
        "\n",
        "print(ret)"
      ],
      "metadata": {
        "colab": {
          "base_uri": "https://localhost:8080/"
        },
        "id": "sKAwFTb-d0p-",
        "outputId": "8a65a49d-da41-4561-e3e8-d44f5e2f9c12"
      },
      "execution_count": 2,
      "outputs": [
        {
          "output_type": "stream",
          "name": "stdout",
          "text": [
            "55\n"
          ]
        }
      ]
    },
    {
      "cell_type": "code",
      "source": [
        "#product\n",
        "\n",
        "n = 10\n",
        "x = [i + 1 for i in range(n)]\n",
        "\n",
        "ret = 1\n",
        "for j in x:\n",
        "    ret *= j\n",
        "\n",
        "print(ret)"
      ],
      "metadata": {
        "colab": {
          "base_uri": "https://localhost:8080/"
        },
        "id": "E7llCIuzd89c",
        "outputId": "7b54aa52-658d-4c54-9219-86556543dd66"
      },
      "execution_count": 3,
      "outputs": [
        {
          "output_type": "stream",
          "name": "stdout",
          "text": [
            "3628800\n"
          ]
        }
      ]
    },
    {
      "cell_type": "code",
      "source": [
        "#argmax\n",
        "#최대값의 인덱스 찾기\n",
        "\n",
        "import numpy as np\n",
        "\n",
        "n = 10\n",
        "\n",
        "x = [i + 1 for i in range(n)]\n",
        "\n",
        "def f(x):\n",
        "    return -np.log(x) # '-' 의미 : 값을 뒤집는다\n",
        "\n",
        "max_val = -np.inf #음의 무한대\n",
        "#어떤 값보다 작은 초기값 설정 >> 첫번째 계산값이 항상 최대값이 되도록 함\n",
        "\n",
        "argmax = None\n",
        "\n",
        "for j in x:\n",
        "    val = f(j)\n",
        "    if val > max_val:\n",
        "        max_val = val\n",
        "        argmax = j\n",
        "\n",
        "print(argmax)"
      ],
      "metadata": {
        "colab": {
          "base_uri": "https://localhost:8080/"
        },
        "id": "4IYd30nieDEO",
        "outputId": "24d16414-36e9-44d7-eb85-f8dff7b66315"
      },
      "execution_count": 4,
      "outputs": [
        {
          "output_type": "stream",
          "name": "stdout",
          "text": [
            "1\n"
          ]
        }
      ]
    },
    {
      "cell_type": "code",
      "source": [
        "import torch\n",
        "\n",
        "a = torch.FloatTensor([[1,2],\n",
        "                       [3,4]])\n",
        "\n",
        "b = torch.FloatTensor([[1, 2],\n",
        "                       [1,2]])"
      ],
      "metadata": {
        "id": "X1WHzFZ3eC_D"
      },
      "execution_count": 8,
      "outputs": []
    },
    {
      "cell_type": "code",
      "source": [
        "print(a)\n",
        "print(b)"
      ],
      "metadata": {
        "colab": {
          "base_uri": "https://localhost:8080/"
        },
        "id": "7fQlO7iaeC9M",
        "outputId": "e8f4254a-8028-4237-e339-1827b68b3919"
      },
      "execution_count": 9,
      "outputs": [
        {
          "output_type": "stream",
          "name": "stdout",
          "text": [
            "tensor([[1., 2.],\n",
            "        [3., 4.]])\n",
            "tensor([[1., 2.],\n",
            "        [1., 2.]])\n"
          ]
        }
      ]
    },
    {
      "cell_type": "code",
      "source": [
        "#행렬 곱\n",
        "c = torch.matmul(a, b)\n",
        "c"
      ],
      "metadata": {
        "colab": {
          "base_uri": "https://localhost:8080/"
        },
        "id": "pFIGnBimfux7",
        "outputId": "5aa4b777-8b34-4c8c-9f83-0e845013d2bc"
      },
      "execution_count": 10,
      "outputs": [
        {
          "output_type": "execute_result",
          "data": {
            "text/plain": [
              "tensor([[ 3.,  6.],\n",
              "        [ 7., 14.]])"
            ]
          },
          "metadata": {},
          "execution_count": 10
        }
      ]
    },
    {
      "cell_type": "code",
      "source": [],
      "metadata": {
        "id": "78gmdWtLfuvs"
      },
      "execution_count": null,
      "outputs": []
    }
  ]
}