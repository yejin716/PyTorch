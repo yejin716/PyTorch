{
  "cells": [
    {
      "cell_type": "markdown",
      "metadata": {
        "id": "pjEi0FjHQZwn"
      },
      "source": [
        "## PyTorch Tensor Slicing and Concatenation"
      ]
    },
    {
      "cell_type": "code",
      "execution_count": 1,
      "metadata": {
        "id": "NR_IL5fIQZwx"
      },
      "outputs": [],
      "source": [
        "import torch"
      ]
    },
    {
      "cell_type": "markdown",
      "metadata": {
        "id": "KSlCNMtsQZw3"
      },
      "source": [
        "## Slicing and Concatenation"
      ]
    },
    {
      "cell_type": "markdown",
      "metadata": {
        "id": "T6RevkIGQZw5"
      },
      "source": [
        "### Indexing and Slicing\n",
        "\n",
        "Prepare target tensor."
      ]
    },
    {
      "cell_type": "code",
      "execution_count": 2,
      "metadata": {
        "colab": {
          "base_uri": "https://localhost:8080/"
        },
        "id": "wqWDJ17rQZw6",
        "outputId": "2485cf77-d754-4264-9d06-f829ad865c4f"
      },
      "outputs": [
        {
          "output_type": "stream",
          "name": "stdout",
          "text": [
            "tensor([[[ 1.,  2.],\n",
            "         [ 3.,  4.]],\n",
            "\n",
            "        [[ 5.,  6.],\n",
            "         [ 7.,  8.]],\n",
            "\n",
            "        [[ 9., 10.],\n",
            "         [11., 12.]]])\n",
            "torch.Size([3, 2, 2])\n"
          ]
        }
      ],
      "source": [
        "x = torch.FloatTensor([[[1, 2],\n",
        "                        [3, 4]],\n",
        "                       [[5, 6],\n",
        "                        [7, 8]],\n",
        "                       [[9, 10],\n",
        "                        [11, 12]]])\n",
        "\n",
        "print(x)\n",
        "print(x.size())"
      ]
    },
    {
      "cell_type": "markdown",
      "metadata": {
        "id": "B7_FSfAhQZw9"
      },
      "source": [
        "Access to certain dimension."
      ]
    },
    {
      "cell_type": "code",
      "execution_count": 3,
      "metadata": {
        "colab": {
          "base_uri": "https://localhost:8080/"
        },
        "id": "sgAA2WjIQZw-",
        "outputId": "99ea1934-6370-41de-fd11-414b5b8a8bac"
      },
      "outputs": [
        {
          "output_type": "stream",
          "name": "stdout",
          "text": [
            "tensor([[1., 2.],\n",
            "        [3., 4.]])\n"
          ]
        }
      ],
      "source": [
        "print(x[0])"
      ]
    },
    {
      "cell_type": "code",
      "execution_count": 4,
      "metadata": {
        "colab": {
          "base_uri": "https://localhost:8080/"
        },
        "id": "E8pqLgCpQZxA",
        "outputId": "e9519a5b-888b-463a-d250-e3b67c120989"
      },
      "outputs": [
        {
          "output_type": "stream",
          "name": "stdout",
          "text": [
            "tensor([[1., 2.],\n",
            "        [3., 4.]])\n"
          ]
        }
      ],
      "source": [
        "print(x[0, :])"
      ]
    },
    {
      "cell_type": "code",
      "execution_count": 5,
      "metadata": {
        "colab": {
          "base_uri": "https://localhost:8080/"
        },
        "id": "XXUjWRubQZxB",
        "outputId": "cf05e416-ab28-4680-ee59-250333d2958d"
      },
      "outputs": [
        {
          "output_type": "stream",
          "name": "stdout",
          "text": [
            "tensor([[1., 2.],\n",
            "        [3., 4.]])\n"
          ]
        }
      ],
      "source": [
        "print(x[0, :, :])"
      ]
    },
    {
      "cell_type": "code",
      "execution_count": 6,
      "metadata": {
        "colab": {
          "base_uri": "https://localhost:8080/"
        },
        "id": "u8a_MMbTQZxC",
        "outputId": "f6945f49-4523-4c55-c9a9-ae004f21959f"
      },
      "outputs": [
        {
          "output_type": "stream",
          "name": "stdout",
          "text": [
            "tensor([[ 9., 10.],\n",
            "        [11., 12.]])\n"
          ]
        }
      ],
      "source": [
        "print(x[-1])"
      ]
    },
    {
      "cell_type": "code",
      "execution_count": 7,
      "metadata": {
        "colab": {
          "base_uri": "https://localhost:8080/"
        },
        "id": "K5ClC3IKQZxD",
        "outputId": "f4539e1d-cf22-4c2c-b2ce-93833b6b185d"
      },
      "outputs": [
        {
          "output_type": "stream",
          "name": "stdout",
          "text": [
            "tensor([[ 9., 10.],\n",
            "        [11., 12.]])\n"
          ]
        }
      ],
      "source": [
        "print(x[-1, :, :])"
      ]
    },
    {
      "cell_type": "code",
      "execution_count": 8,
      "metadata": {
        "colab": {
          "base_uri": "https://localhost:8080/"
        },
        "id": "1D1NeTFOQZxE",
        "outputId": "9eaf52e6-c446-4906-8988-87dadb8bfb38"
      },
      "outputs": [
        {
          "output_type": "stream",
          "name": "stdout",
          "text": [
            "tensor([[ 1.,  2.],\n",
            "        [ 5.,  6.],\n",
            "        [ 9., 10.]])\n"
          ]
        }
      ],
      "source": [
        "print(x[:, 0])"
      ]
    },
    {
      "cell_type": "code",
      "execution_count": 9,
      "metadata": {
        "colab": {
          "base_uri": "https://localhost:8080/"
        },
        "id": "776OdP4mQZxE",
        "outputId": "854b2719-b44a-4f4f-8a25-ea207bc268ed"
      },
      "outputs": [
        {
          "output_type": "stream",
          "name": "stdout",
          "text": [
            "tensor([[ 1.,  2.],\n",
            "        [ 5.,  6.],\n",
            "        [ 9., 10.]])\n"
          ]
        }
      ],
      "source": [
        "print(x[:, 0, :])"
      ]
    },
    {
      "cell_type": "markdown",
      "metadata": {
        "id": "2XNtHoojQZxG"
      },
      "source": [
        "Access by range. Note that the number of dimensions would not be changed."
      ]
    },
    {
      "cell_type": "code",
      "execution_count": 10,
      "metadata": {
        "colab": {
          "base_uri": "https://localhost:8080/"
        },
        "id": "YA0O9uLVQZxH",
        "outputId": "908f245f-a162-4229-9dd7-72e55dbd688a"
      },
      "outputs": [
        {
          "output_type": "stream",
          "name": "stdout",
          "text": [
            "tensor([[[ 5.,  6.],\n",
            "         [ 7.,  8.]],\n",
            "\n",
            "        [[ 9., 10.],\n",
            "         [11., 12.]]])\n",
            "torch.Size([2, 2, 2])\n"
          ]
        }
      ],
      "source": [
        "print(x[1:3, :, :])\n",
        "print(x[1:3, :, :].size())\n",
        "# |x| = (3,2,2)"
      ]
    },
    {
      "cell_type": "code",
      "execution_count": 11,
      "metadata": {
        "colab": {
          "base_uri": "https://localhost:8080/"
        },
        "id": "vdUMgRnTQZxI",
        "outputId": "4707a25e-01b5-48a8-e22c-afcbd1b3f4c1"
      },
      "outputs": [
        {
          "output_type": "stream",
          "name": "stdout",
          "text": [
            "tensor([[[ 1.,  2.]],\n",
            "\n",
            "        [[ 5.,  6.]],\n",
            "\n",
            "        [[ 9., 10.]]])\n",
            "torch.Size([3, 1, 2])\n"
          ]
        }
      ],
      "source": [
        "print(x[:, :1, :])\n",
        "print(x[:, :1, :].size())"
      ]
    },
    {
      "cell_type": "code",
      "execution_count": 12,
      "metadata": {
        "scrolled": true,
        "colab": {
          "base_uri": "https://localhost:8080/"
        },
        "id": "iBTgciMbQZxJ",
        "outputId": "78d86d14-b182-4f9f-a5ff-b618b0458394"
      },
      "outputs": [
        {
          "output_type": "stream",
          "name": "stdout",
          "text": [
            "tensor([[[ 1.,  2.]],\n",
            "\n",
            "        [[ 5.,  6.]],\n",
            "\n",
            "        [[ 9., 10.]]])\n",
            "torch.Size([3, 1, 2])\n"
          ]
        }
      ],
      "source": [
        "print(x[:, :-1, :])\n",
        "print(x[:, :-1, :].size())"
      ]
    },
    {
      "cell_type": "markdown",
      "metadata": {
        "id": "L507ZFuyQZxJ"
      },
      "source": [
        "### split: Split tensor to desirable shapes."
      ]
    },
    {
      "cell_type": "code",
      "execution_count": 13,
      "metadata": {
        "colab": {
          "base_uri": "https://localhost:8080/"
        },
        "id": "re68UGgSQZxJ",
        "outputId": "4c2a3d72-6ef2-476f-9603-124a7c892b1e"
      },
      "outputs": [
        {
          "output_type": "execute_result",
          "data": {
            "text/plain": [
              "tensor([[ 7.5541e-19,  3.0998e-41,  8.2092e+13,  4.3948e-41],\n",
              "        [ 0.0000e+00,  0.0000e+00,  0.0000e+00,  0.0000e+00],\n",
              "        [ 0.0000e+00,  0.0000e+00,  0.0000e+00,  0.0000e+00],\n",
              "        [ 0.0000e+00,  0.0000e+00,  0.0000e+00,  0.0000e+00],\n",
              "        [ 1.4013e-45,  0.0000e+00,  0.0000e+00,  0.0000e+00],\n",
              "        [ 0.0000e+00,  0.0000e+00,  0.0000e+00,  0.0000e+00],\n",
              "        [ 0.0000e+00,  0.0000e+00,  0.0000e+00,  0.0000e+00],\n",
              "        [ 1.4013e-45,  0.0000e+00, -1.7014e+38,  1.1515e-40],\n",
              "        [ 4.5919e-41,  4.1478e-43,  1.5835e-43,  0.0000e+00],\n",
              "        [ 4.7661e-18,  3.0998e-41,  4.7675e-18,  3.0998e-41]])"
            ]
          },
          "metadata": {},
          "execution_count": 13
        }
      ],
      "source": [
        "x = torch.FloatTensor(10, 4)\n",
        "x"
      ]
    },
    {
      "cell_type": "code",
      "execution_count": 14,
      "metadata": {
        "colab": {
          "base_uri": "https://localhost:8080/"
        },
        "id": "eEquaVIEQZxK",
        "outputId": "d994c1ea-e6cb-4ba8-c539-b23445af40f5"
      },
      "outputs": [
        {
          "output_type": "stream",
          "name": "stdout",
          "text": [
            "(tensor([[7.5541e-19, 3.0998e-41, 8.2092e+13, 4.3948e-41],\n",
            "        [0.0000e+00, 0.0000e+00, 0.0000e+00, 0.0000e+00],\n",
            "        [0.0000e+00, 0.0000e+00, 0.0000e+00, 0.0000e+00],\n",
            "        [0.0000e+00, 0.0000e+00, 0.0000e+00, 0.0000e+00]]), tensor([[ 1.4013e-45,  0.0000e+00,  0.0000e+00,  0.0000e+00],\n",
            "        [ 0.0000e+00,  0.0000e+00,  0.0000e+00,  0.0000e+00],\n",
            "        [ 0.0000e+00,  0.0000e+00,  0.0000e+00,  0.0000e+00],\n",
            "        [ 1.4013e-45,  0.0000e+00, -1.7014e+38,  1.1515e-40]]), tensor([[4.5919e-41, 4.1478e-43, 1.5835e-43, 0.0000e+00],\n",
            "        [4.7661e-18, 3.0998e-41, 4.7675e-18, 3.0998e-41]]))\n",
            "torch.Size([4, 4])\n",
            "torch.Size([4, 4])\n",
            "torch.Size([2, 4])\n"
          ]
        }
      ],
      "source": [
        "# splits()\n",
        "# 텐서를 특정 차원에 대해 원하는 크기로 잘라줌\n",
        "# 개수에 상관 없이 원하는 크기로 나누기\n",
        "\n",
        "splits = x.split(4, dim=0)\n",
        "print(splits)\n",
        "\n",
        "for s in splits:\n",
        "    print(s.size())"
      ]
    },
    {
      "cell_type": "markdown",
      "metadata": {
        "id": "PjOoZHfeQZxK"
      },
      "source": [
        "### chunk: Split tensor to number of chunks."
      ]
    },
    {
      "cell_type": "code",
      "execution_count": 15,
      "metadata": {
        "colab": {
          "base_uri": "https://localhost:8080/"
        },
        "id": "nw1IU3PgQZxK",
        "outputId": "ebdd30b6-d166-473c-c18a-6f50f84a360b"
      },
      "outputs": [
        {
          "output_type": "execute_result",
          "data": {
            "text/plain": [
              "tensor([[0.0000e+00, 3.0998e-41, 1.8788e+31, 1.7220e+22],\n",
              "        [2.1715e-18, 2.1391e+23, 5.4455e-05, 5.3779e+22],\n",
              "        [5.3697e-05, 1.0547e-08, 4.2190e-08, 5.4371e+22],\n",
              "        [1.3311e+22, 1.0930e-05, 2.1707e-18, 1.6678e+19],\n",
              "        [7.0976e+22, 2.1715e-18, 4.2330e+21, 1.6534e+19],\n",
              "        [1.1625e+27, 1.4580e-19, 7.1856e+22, 4.3605e+27],\n",
              "        [1.5766e-19, 7.1856e+22, 4.3605e+27, 1.4580e-19],\n",
              "        [1.8179e+31, 1.8524e+28, 2.1715e-18, 2.1391e+23]])"
            ]
          },
          "metadata": {},
          "execution_count": 15
        }
      ],
      "source": [
        "x = torch.FloatTensor(8, 4)\n",
        "x"
      ]
    },
    {
      "cell_type": "code",
      "execution_count": 16,
      "metadata": {
        "colab": {
          "base_uri": "https://localhost:8080/"
        },
        "id": "xb7WKA_5QZxL",
        "outputId": "68d32dcb-4faf-40d2-b424-41404fc9692d"
      },
      "outputs": [
        {
          "output_type": "stream",
          "name": "stdout",
          "text": [
            "(tensor([[0.0000e+00, 3.0998e-41, 1.8788e+31, 1.7220e+22],\n",
            "        [2.1715e-18, 2.1391e+23, 5.4455e-05, 5.3779e+22],\n",
            "        [5.3697e-05, 1.0547e-08, 4.2190e-08, 5.4371e+22]]), tensor([[1.3311e+22, 1.0930e-05, 2.1707e-18, 1.6678e+19],\n",
            "        [7.0976e+22, 2.1715e-18, 4.2330e+21, 1.6534e+19],\n",
            "        [1.1625e+27, 1.4580e-19, 7.1856e+22, 4.3605e+27]]), tensor([[1.5766e-19, 7.1856e+22, 4.3605e+27, 1.4580e-19],\n",
            "        [1.8179e+31, 1.8524e+28, 2.1715e-18, 2.1391e+23]]))\n",
            "torch.Size([3, 4])\n",
            "torch.Size([3, 4])\n",
            "torch.Size([2, 4])\n"
          ]
        }
      ],
      "source": [
        "# chunk : 첫번째 차원의 크기 8을 최대한 같은 크기로 3등분\n",
        "chunks = x.chunk(3, dim=0)\n",
        "print(chunks)\n",
        "\n",
        "for c in chunks:\n",
        "    print(c.size())"
      ]
    },
    {
      "cell_type": "markdown",
      "metadata": {
        "id": "TSwyA6WfQZxL"
      },
      "source": [
        "### index_select: Select elements by using dimension index."
      ]
    },
    {
      "cell_type": "code",
      "execution_count": 17,
      "metadata": {
        "colab": {
          "base_uri": "https://localhost:8080/"
        },
        "id": "X7n7Ob7rQZxL",
        "outputId": "1dc86abe-49c2-4099-e2c9-c9119172793b"
      },
      "outputs": [
        {
          "output_type": "stream",
          "name": "stdout",
          "text": [
            "tensor([[[1., 1.],\n",
            "         [2., 2.]],\n",
            "\n",
            "        [[3., 3.],\n",
            "         [4., 4.]],\n",
            "\n",
            "        [[5., 5.],\n",
            "         [6., 6.]]])\n",
            "torch.Size([3, 2, 2])\n"
          ]
        }
      ],
      "source": [
        "# index_select() : 특정 차원에서 원하는 인덱스(index) 값만 취하는 함수\n",
        "\n",
        "x = torch.FloatTensor([[[1, 1],\n",
        "                        [2, 2]],\n",
        "                       [[3, 3],\n",
        "                        [4, 4]],\n",
        "                       [[5, 5],\n",
        "                        [6, 6]]])\n",
        "\n",
        "indice = torch.LongTensor([2, 1])\n",
        "\n",
        "print(x)\n",
        "print(x.size())"
      ]
    },
    {
      "cell_type": "code",
      "execution_count": 18,
      "metadata": {
        "colab": {
          "base_uri": "https://localhost:8080/"
        },
        "id": "SfabZMCxQZxL",
        "outputId": "41260854-b958-44a7-bef8-c7b8b95653cf"
      },
      "outputs": [
        {
          "output_type": "stream",
          "name": "stdout",
          "text": [
            "tensor([[[5., 5.],\n",
            "         [6., 6.]],\n",
            "\n",
            "        [[3., 3.],\n",
            "         [4., 4.]]])\n",
            "torch.Size([2, 2, 2])\n"
          ]
        }
      ],
      "source": [
        "y = x.index_select(dim=0, index=indice) #첫번째 차원에서 인덱스가 2와 1인것\n",
        "\n",
        "print(y)\n",
        "print(y.size())"
      ]
    },
    {
      "cell_type": "markdown",
      "metadata": {
        "id": "QG1hj7PlQZxL"
      },
      "source": [
        "### cat: Concatenation of multiple tensors in the list."
      ]
    },
    {
      "cell_type": "code",
      "execution_count": 19,
      "metadata": {
        "colab": {
          "base_uri": "https://localhost:8080/"
        },
        "id": "77qtdh0AQZxM",
        "outputId": "00ed6321-00bc-46bc-d9fc-af3ee5214162"
      },
      "outputs": [
        {
          "output_type": "stream",
          "name": "stdout",
          "text": [
            "tensor([[1., 2., 3.],\n",
            "        [4., 5., 6.],\n",
            "        [7., 8., 9.]])\n",
            "\n",
            "tensor([[10., 11., 12.],\n",
            "        [13., 14., 15.],\n",
            "        [16., 17., 18.]])\n",
            "torch.Size([3, 3]) torch.Size([3, 3])\n"
          ]
        }
      ],
      "source": [
        "x = torch.FloatTensor([[1, 2, 3],\n",
        "                       [4, 5, 6],\n",
        "                       [7, 8, 9]])\n",
        "y = torch.FloatTensor([[10, 11, 12],\n",
        "                       [13, 14, 15],\n",
        "                       [16, 17, 18]])\n",
        "\n",
        "print(x)\n",
        "print()\n",
        "print(y)\n",
        "print(x.size(), y.size())"
      ]
    },
    {
      "cell_type": "code",
      "execution_count": 20,
      "metadata": {
        "colab": {
          "base_uri": "https://localhost:8080/"
        },
        "id": "KoF3L6XzQZxM",
        "outputId": "75c96729-ad83-444a-faa8-08f4bb8633db"
      },
      "outputs": [
        {
          "output_type": "stream",
          "name": "stdout",
          "text": [
            "tensor([[ 1.,  2.,  3.],\n",
            "        [ 4.,  5.,  6.],\n",
            "        [ 7.,  8.,  9.],\n",
            "        [10., 11., 12.],\n",
            "        [13., 14., 15.],\n",
            "        [16., 17., 18.]])\n",
            "torch.Size([6, 3])\n"
          ]
        }
      ],
      "source": [
        "z = torch.cat([x, y], dim=0)\n",
        "# dim=0 세로방향\n",
        "print(z)\n",
        "print(z.size())"
      ]
    },
    {
      "cell_type": "code",
      "execution_count": 21,
      "metadata": {
        "colab": {
          "base_uri": "https://localhost:8080/"
        },
        "id": "IjXigvrZQZxM",
        "outputId": "034a1ab8-8d16-45a0-e5a8-5c9b766961d1"
      },
      "outputs": [
        {
          "output_type": "stream",
          "name": "stdout",
          "text": [
            "tensor([[ 1.,  2.,  3., 10., 11., 12.],\n",
            "        [ 4.,  5.,  6., 13., 14., 15.],\n",
            "        [ 7.,  8.,  9., 16., 17., 18.]])\n",
            "torch.Size([3, 6])\n"
          ]
        }
      ],
      "source": [
        "z = torch.cat([x, y], dim=-1)\n",
        "\n",
        "print(z)\n",
        "print(z.size())"
      ]
    },
    {
      "cell_type": "markdown",
      "metadata": {
        "id": "sjOknhvNQZxM"
      },
      "source": [
        "### stack: Stacking of multiple tensors in the list."
      ]
    },
    {
      "cell_type": "code",
      "execution_count": 22,
      "metadata": {
        "colab": {
          "base_uri": "https://localhost:8080/"
        },
        "id": "nEV334GqQZxN",
        "outputId": "5266e63d-1ed1-48e1-a6ce-854206f8808d"
      },
      "outputs": [
        {
          "output_type": "stream",
          "name": "stdout",
          "text": [
            "tensor([[[ 1.,  2.,  3.],\n",
            "         [ 4.,  5.,  6.],\n",
            "         [ 7.,  8.,  9.]],\n",
            "\n",
            "        [[10., 11., 12.],\n",
            "         [13., 14., 15.],\n",
            "         [16., 17., 18.]]])\n",
            "torch.Size([2, 3, 3])\n"
          ]
        }
      ],
      "source": [
        "# stack() : 쌓기 (2차원 아님 >> 차원이 증가)\n",
        "z = torch.stack([x, y])\n",
        "\n",
        "print(z)\n",
        "print(z.size())"
      ]
    },
    {
      "cell_type": "markdown",
      "metadata": {
        "id": "OMPJxGWrQZxN"
      },
      "source": [
        "Or you can specify the dimension. Default is 0."
      ]
    },
    {
      "cell_type": "code",
      "execution_count": 23,
      "metadata": {
        "colab": {
          "base_uri": "https://localhost:8080/"
        },
        "id": "k3H-CRH2QZxN",
        "outputId": "e65c8ce0-8d7d-4874-ceeb-bc29846210b1"
      },
      "outputs": [
        {
          "output_type": "stream",
          "name": "stdout",
          "text": [
            "tensor([[[ 1., 10.],\n",
            "         [ 2., 11.],\n",
            "         [ 3., 12.]],\n",
            "\n",
            "        [[ 4., 13.],\n",
            "         [ 5., 14.],\n",
            "         [ 6., 15.]],\n",
            "\n",
            "        [[ 7., 16.],\n",
            "         [ 8., 17.],\n",
            "         [ 9., 18.]]])\n",
            "torch.Size([3, 3, 2])\n"
          ]
        }
      ],
      "source": [
        "z = torch.stack([x, y], dim=-1)\n",
        "\n",
        "print(z)\n",
        "print(z.size())"
      ]
    },
    {
      "cell_type": "markdown",
      "metadata": {
        "id": "8zOzOp15QZxN"
      },
      "source": [
        "### Implement 'stack' function by using 'cat'."
      ]
    },
    {
      "cell_type": "code",
      "execution_count": 24,
      "metadata": {
        "colab": {
          "base_uri": "https://localhost:8080/"
        },
        "id": "oJuqqxXwQZxO",
        "outputId": "a2b8b4b6-cb03-4ee6-f56e-1d8e46579be0"
      },
      "outputs": [
        {
          "output_type": "stream",
          "name": "stdout",
          "text": [
            "tensor([[1., 2., 3.],\n",
            "        [4., 5., 6.],\n",
            "        [7., 8., 9.]])\n",
            "torch.Size([3, 3])\n",
            "tensor([[[1., 2., 3.],\n",
            "         [4., 5., 6.],\n",
            "         [7., 8., 9.]]])\n",
            "torch.Size([1, 3, 3])\n"
          ]
        }
      ],
      "source": [
        "print(x)\n",
        "print(x.size())\n",
        "print(x.unsqueeze(0))\n",
        "print(x.unsqueeze(0).size())"
      ]
    },
    {
      "cell_type": "code",
      "execution_count": 25,
      "metadata": {
        "colab": {
          "base_uri": "https://localhost:8080/"
        },
        "id": "7Pf1wMy2QZxO",
        "outputId": "daf4126f-4607-4fb1-8668-1c2a1ad1fd88"
      },
      "outputs": [
        {
          "output_type": "stream",
          "name": "stdout",
          "text": [
            "tensor([[10., 11., 12.],\n",
            "        [13., 14., 15.],\n",
            "        [16., 17., 18.]])\n",
            "torch.Size([3, 3])\n",
            "tensor([[[10., 11., 12.],\n",
            "         [13., 14., 15.],\n",
            "         [16., 17., 18.]]])\n",
            "torch.Size([1, 3, 3])\n"
          ]
        }
      ],
      "source": [
        "print(y)\n",
        "print(y.size())\n",
        "print(y.unsqueeze(0))\n",
        "print(y.unsqueeze(0).size())"
      ]
    },
    {
      "cell_type": "code",
      "execution_count": 26,
      "metadata": {
        "colab": {
          "base_uri": "https://localhost:8080/"
        },
        "id": "u02Quvd4QZxO",
        "outputId": "792829e1-7e3a-4285-fc33-9c2c664100c1"
      },
      "outputs": [
        {
          "output_type": "stream",
          "name": "stdout",
          "text": [
            "tensor([[[ 1.,  2.,  3.],\n",
            "         [ 4.,  5.,  6.],\n",
            "         [ 7.,  8.,  9.]],\n",
            "\n",
            "        [[10., 11., 12.],\n",
            "         [13., 14., 15.],\n",
            "         [16., 17., 18.]]])\n",
            "torch.Size([2, 3, 3])\n"
          ]
        }
      ],
      "source": [
        "# z = torch.stack([x, y])\n",
        "z = torch.cat([x.unsqueeze(0), y.unsqueeze(0)], dim=0)\n",
        "\n",
        "print(z)\n",
        "print(z.size())"
      ]
    },
    {
      "cell_type": "markdown",
      "metadata": {
        "id": "iQ7TG0p4QZxO"
      },
      "source": [
        "### Useful Trick: Merge results from iterations"
      ]
    },
    {
      "cell_type": "code",
      "execution_count": 27,
      "metadata": {
        "colab": {
          "base_uri": "https://localhost:8080/"
        },
        "id": "kYZQkAfHQZxT",
        "outputId": "d9e22523-975b-4585-fa4e-4546a7102428"
      },
      "outputs": [
        {
          "output_type": "stream",
          "name": "stdout",
          "text": [
            "tensor([[[5.5077e+03, 4.3949e-41],\n",
            "         [4.7720e-18, 3.0998e-41]],\n",
            "\n",
            "        [[5.5077e+03, 4.3949e-41],\n",
            "         [4.7737e-18, 3.0998e-41]],\n",
            "\n",
            "        [[5.5077e+03, 4.3949e-41],\n",
            "         [1.4865e-21, 3.0998e-41]],\n",
            "\n",
            "        [[5.5077e+03, 4.3949e-41],\n",
            "         [4.7797e-18, 3.0998e-41]],\n",
            "\n",
            "        [[5.5077e+03, 4.3949e-41],\n",
            "         [5.5077e+03, 4.3949e-41]]])\n"
          ]
        },
        {
          "output_type": "execute_result",
          "data": {
            "text/plain": [
              "torch.Size([5, 2, 2])"
            ]
          },
          "metadata": {},
          "execution_count": 27
        }
      ],
      "source": [
        "result = []\n",
        "for i in range(5):\n",
        "    x = torch.FloatTensor(2, 2)\n",
        "    result += [x]\n",
        "\n",
        "result = torch.stack(result)\n",
        "print(result)\n",
        "result.size()"
      ]
    },
    {
      "cell_type": "code",
      "execution_count": 28,
      "metadata": {
        "colab": {
          "base_uri": "https://localhost:8080/"
        },
        "id": "trhEtNntQZxT",
        "outputId": "1add2875-6952-491d-b8b5-e77015af20f6"
      },
      "outputs": [
        {
          "output_type": "stream",
          "name": "stdout",
          "text": [
            "tensor([[5.5077e+03, 4.3949e-41],\n",
            "        [4.7720e-18, 3.0998e-41]])\n",
            "tensor([[5.5077e+03, 4.3949e-41],\n",
            "        [5.5077e+03, 4.3949e-41]])\n",
            "tensor([[0., 0.],\n",
            "        [0., 0.]])\n",
            "tensor([[0., 0.],\n",
            "        [0., 0.]])\n",
            "tensor([[5.5076e+03, 4.3949e-41],\n",
            "        [5.5076e+03, 4.3949e-41]])\n"
          ]
        }
      ],
      "source": [
        "result = []\n",
        "for i in range(5):\n",
        "    x = torch.FloatTensor(2, 2)\n",
        "    print(x)\n",
        "    result += [x]\n"
      ]
    },
    {
      "cell_type": "code",
      "execution_count": 28,
      "metadata": {
        "id": "z-VLCh0fQZxU"
      },
      "outputs": [],
      "source": []
    }
  ],
  "metadata": {
    "kernelspec": {
      "display_name": "Python 3",
      "language": "python",
      "name": "python3"
    },
    "language_info": {
      "codemirror_mode": {
        "name": "ipython",
        "version": 3
      },
      "file_extension": ".py",
      "mimetype": "text/x-python",
      "name": "python",
      "nbconvert_exporter": "python",
      "pygments_lexer": "ipython3",
      "version": "3.11.7"
    },
    "colab": {
      "provenance": []
    }
  },
  "nbformat": 4,
  "nbformat_minor": 0
}