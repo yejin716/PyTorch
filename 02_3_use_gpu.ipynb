{
  "cells": [
    {
      "cell_type": "markdown",
      "metadata": {
        "id": "flYVsMv6wER1"
      },
      "source": [
        "# How to use GPU"
      ]
    },
    {
      "cell_type": "code",
      "execution_count": 29,
      "metadata": {
        "id": "8STCdmCgwER3"
      },
      "outputs": [],
      "source": [
        "import torch\n",
        "import torch.nn as nn"
      ]
    },
    {
      "cell_type": "code",
      "execution_count": 30,
      "metadata": {
        "colab": {
          "base_uri": "https://localhost:8080/"
        },
        "id": "sIcD3k-jwTjN",
        "outputId": "f0f35650-1528-45a5-b01b-33951b628117"
      },
      "outputs": [
        {
          "name": "stdout",
          "output_type": "stream",
          "text": [
            "True\n"
          ]
        }
      ],
      "source": [
        "print(torch.cuda.is_available())"
      ]
    },
    {
      "cell_type": "markdown",
      "metadata": {
        "id": "htAcpvOlwER5"
      },
      "source": [
        "## Convert to CUDA tensor: cuda()"
      ]
    },
    {
      "cell_type": "code",
      "execution_count": 31,
      "metadata": {
        "colab": {
          "base_uri": "https://localhost:8080/"
        },
        "id": "oSb9QpH9wER5",
        "outputId": "69f0e215-0d08-4093-d19b-7290e689b550"
      },
      "outputs": [
        {
          "data": {
            "text/plain": [
              "tensor([[-0.2612, -0.6885],\n",
              "        [ 0.6925,  0.0790]], device='cuda:0')"
            ]
          },
          "execution_count": 31,
          "metadata": {},
          "output_type": "execute_result"
        }
      ],
      "source": [
        "x = torch.cuda.FloatTensor(2, 2)\n",
        "\n",
        "x"
      ]
    },
    {
      "cell_type": "code",
      "execution_count": 32,
      "metadata": {
        "colab": {
          "base_uri": "https://localhost:8080/"
        },
        "id": "M60mgRcFwER6",
        "outputId": "6d2bb03c-3052-48be-c515-12d86bfd7432"
      },
      "outputs": [
        {
          "data": {
            "text/plain": [
              "tensor([[-3.1707e+00,  4.3331e-41],\n",
              "        [-3.1707e+00,  4.3331e-41]])"
            ]
          },
          "execution_count": 32,
          "metadata": {},
          "output_type": "execute_result"
        }
      ],
      "source": [
        "x = torch.FloatTensor(2, 2)\n",
        "\n",
        "x\n",
        "# 현재 cpu 에 있는 값"
      ]
    },
    {
      "cell_type": "code",
      "execution_count": 33,
      "metadata": {
        "colab": {
          "base_uri": "https://localhost:8080/"
        },
        "id": "mFEn3qirwER6",
        "outputId": "c99de915-c535-4cba-c1b8-65acfdbe0c65"
      },
      "outputs": [
        {
          "data": {
            "text/plain": [
              "tensor([[-3.1707e+00,  4.3331e-41],\n",
              "        [-3.1707e+00,  4.3331e-41]], device='cuda:0')"
            ]
          },
          "execution_count": 33,
          "metadata": {},
          "output_type": "execute_result"
        }
      ],
      "source": [
        "x.cuda()"
      ]
    },
    {
      "cell_type": "code",
      "execution_count": 34,
      "metadata": {
        "id": "1g8JttDYwER6"
      },
      "outputs": [],
      "source": [
        "d = torch.device('cuda:0')\n",
        "# device 지정"
      ]
    },
    {
      "cell_type": "code",
      "execution_count": 35,
      "metadata": {
        "colab": {
          "base_uri": "https://localhost:8080/"
        },
        "id": "flCqDg43wER6",
        "outputId": "db4d56b5-9a83-4eca-92a8-7c4df3de4723"
      },
      "outputs": [
        {
          "data": {
            "text/plain": [
              "tensor([[-3.1707e+00,  4.3331e-41],\n",
              "        [-3.1707e+00,  4.3331e-41]], device='cuda:0')"
            ]
          },
          "execution_count": 35,
          "metadata": {},
          "output_type": "execute_result"
        }
      ],
      "source": [
        "x.cuda(device=d)"
      ]
    },
    {
      "cell_type": "code",
      "execution_count": 36,
      "metadata": {
        "colab": {
          "base_uri": "https://localhost:8080/"
        },
        "id": "CGVl21f9wER6",
        "outputId": "511691b2-1fc2-4f46-eace-9e499c9adda1"
      },
      "outputs": [
        {
          "data": {
            "text/plain": [
              "device(type='cpu')"
            ]
          },
          "execution_count": 36,
          "metadata": {},
          "output_type": "execute_result"
        }
      ],
      "source": [
        "x.device"
      ]
    },
    {
      "cell_type": "markdown",
      "metadata": {
        "id": "-4KnRNr7wER7"
      },
      "source": [
        "## Convert to CUDA tensor: to()"
      ]
    },
    {
      "cell_type": "code",
      "execution_count": 37,
      "metadata": {
        "colab": {
          "base_uri": "https://localhost:8080/"
        },
        "id": "I3DDoOnpwER7",
        "outputId": "80289907-54fd-4367-d98b-5ef828a9e6eb"
      },
      "outputs": [
        {
          "data": {
            "text/plain": [
              "tensor([[-3.1707e+00,  4.3331e-41],\n",
              "        [-3.1707e+00,  4.3331e-41]], device='cuda:0')"
            ]
          },
          "execution_count": 37,
          "metadata": {},
          "output_type": "execute_result"
        }
      ],
      "source": [
        "x.to(device=d)"
      ]
    },
    {
      "cell_type": "markdown",
      "metadata": {
        "id": "eQ7w92eSwER7"
      },
      "source": [
        "## Convert to CPU tensor from CUDA tensor"
      ]
    },
    {
      "cell_type": "code",
      "execution_count": 38,
      "metadata": {
        "id": "JS4DyFgxwER7"
      },
      "outputs": [],
      "source": [
        "x = torch.cuda.FloatTensor(2, 2)"
      ]
    },
    {
      "cell_type": "code",
      "execution_count": 39,
      "metadata": {
        "colab": {
          "base_uri": "https://localhost:8080/"
        },
        "id": "Mr5j_NNHwER7",
        "outputId": "b7440891-21d0-4ac8-9d6f-4ed29dcd93df"
      },
      "outputs": [
        {
          "data": {
            "text/plain": [
              "tensor([[-3.1707e+00,  4.3331e-41],\n",
              "        [-3.1707e+00,  4.3331e-41]])"
            ]
          },
          "execution_count": 39,
          "metadata": {},
          "output_type": "execute_result"
        }
      ],
      "source": [
        "x = x.cpu()\n",
        "x"
      ]
    },
    {
      "cell_type": "code",
      "execution_count": 40,
      "metadata": {
        "colab": {
          "base_uri": "https://localhost:8080/"
        },
        "id": "S0K8ilaLwER8",
        "outputId": "d9de7e22-bb53-40db-af2e-8036454adbfb"
      },
      "outputs": [
        {
          "name": "stdout",
          "output_type": "stream",
          "text": [
            "cpu\n"
          ]
        }
      ],
      "source": [
        "d = torch.device('cpu')\n",
        "print(d)"
      ]
    },
    {
      "cell_type": "code",
      "execution_count": 41,
      "metadata": {
        "colab": {
          "base_uri": "https://localhost:8080/"
        },
        "id": "WaKlrMpOwzEZ",
        "outputId": "805c8507-5c2b-44fd-a291-40319635a6e5"
      },
      "outputs": [
        {
          "data": {
            "text/plain": [
              "tensor([[-3.1707e+00,  4.3331e-41],\n",
              "        [-3.1707e+00,  4.3331e-41]])"
            ]
          },
          "execution_count": 41,
          "metadata": {},
          "output_type": "execute_result"
        }
      ],
      "source": [
        "x = x.to(d) # d=cpu\n",
        "x"
      ]
    },
    {
      "cell_type": "markdown",
      "metadata": {
        "id": "43BDXKK8wER8"
      },
      "source": [
        "## Move model from CPU to GPU."
      ]
    },
    {
      "cell_type": "code",
      "execution_count": 42,
      "metadata": {
        "id": "9dIYi9C4wER8"
      },
      "outputs": [],
      "source": [
        "def print_params(model):\n",
        "    for p in model.parameters():\n",
        "        print(p)"
      ]
    },
    {
      "cell_type": "code",
      "execution_count": 43,
      "metadata": {
        "colab": {
          "base_uri": "https://localhost:8080/"
        },
        "id": "aSdAlasewER8",
        "outputId": "dbd5ee1b-9a0e-44c7-9987-6058f0f05353"
      },
      "outputs": [
        {
          "name": "stdout",
          "output_type": "stream",
          "text": [
            "Parameter containing:\n",
            "tensor([[-0.0684,  0.2269],\n",
            "        [ 0.6827, -0.5724]], requires_grad=True)\n",
            "Parameter containing:\n",
            "tensor([-0.1541,  0.5336], requires_grad=True)\n"
          ]
        }
      ],
      "source": [
        "linear = nn.Linear(2, 2)\n",
        "\n",
        "print_params(linear)\n",
        "# requires_grad=True\n",
        "# 해당 텐서에 대한 연산을 추적하여 역전파(backpropagation) 과정에서 자동 미분을 계산할 수 있도록 설정"
      ]
    },
    {
      "cell_type": "code",
      "execution_count": 44,
      "metadata": {
        "colab": {
          "base_uri": "https://localhost:8080/"
        },
        "id": "mxD0yWKdwER8",
        "outputId": "1367358a-3fff-4795-c093-38fb193d1129"
      },
      "outputs": [
        {
          "name": "stdout",
          "output_type": "stream",
          "text": [
            "Parameter containing:\n",
            "tensor([[-0.0684,  0.2269],\n",
            "        [ 0.6827, -0.5724]], device='cuda:0', requires_grad=True)\n",
            "Parameter containing:\n",
            "tensor([-0.1541,  0.5336], device='cuda:0', requires_grad=True)\n"
          ]
        }
      ],
      "source": [
        "linear = linear.cuda()\n",
        "\n",
        "print_params(linear)\n",
        "#  device='cuda:0', requires_grad=True"
      ]
    },
    {
      "cell_type": "code",
      "execution_count": 45,
      "metadata": {
        "colab": {
          "base_uri": "https://localhost:8080/"
        },
        "id": "hYPUo7clwER8",
        "outputId": "d7c899ef-ac4a-46aa-9565-d728e01caef5"
      },
      "outputs": [
        {
          "name": "stdout",
          "output_type": "stream",
          "text": [
            "Parameter containing:\n",
            "tensor([[-0.0684,  0.2269],\n",
            "        [ 0.6827, -0.5724]], requires_grad=True)\n",
            "Parameter containing:\n",
            "tensor([-0.1541,  0.5336], requires_grad=True)\n"
          ]
        }
      ],
      "source": [
        "linear = linear.cpu()\n",
        "\n",
        "print_params(linear)"
      ]
    },
    {
      "cell_type": "code",
      "execution_count": 46,
      "metadata": {
        "colab": {
          "base_uri": "https://localhost:8080/"
        },
        "id": "8UThq9MOwER8",
        "outputId": "235a83a6-f53f-463f-9465-e15c768bc411"
      },
      "outputs": [
        {
          "name": "stdout",
          "output_type": "stream",
          "text": [
            "Parameter containing:\n",
            "tensor([[-0.0684,  0.2269],\n",
            "        [ 0.6827, -0.5724]], device='cuda:0', requires_grad=True)\n",
            "Parameter containing:\n",
            "tensor([-0.1541,  0.5336], device='cuda:0', requires_grad=True)\n"
          ]
        }
      ],
      "source": [
        "d = torch.device('cuda:0')\n",
        "linear = linear.to(d)\n",
        "\n",
        "print_params(linear)"
      ]
    },
    {
      "cell_type": "markdown",
      "metadata": {
        "id": "Km0wxjOvwER9"
      },
      "source": [
        "Note that nn.Module class does not have 'device' property."
      ]
    },
    {
      "cell_type": "code",
      "execution_count": 47,
      "metadata": {
        "id": "YiZTbf40wER9"
      },
      "outputs": [],
      "source": [
        "# linear.device\n",
        "# >>nn.Module class does not have 'device' property. 에러발생"
      ]
    },
    {
      "cell_type": "markdown",
      "metadata": {
        "id": "uPSwjIZpwER9"
      },
      "source": [
        "## Tricks"
      ]
    },
    {
      "cell_type": "code",
      "execution_count": 48,
      "metadata": {
        "id": "lsZCACzFwER9"
      },
      "outputs": [],
      "source": [
        "x = torch.cuda.FloatTensor(2, 2)"
      ]
    },
    {
      "cell_type": "code",
      "execution_count": 49,
      "metadata": {
        "colab": {
          "base_uri": "https://localhost:8080/"
        },
        "id": "x1pdRHfFYgpX",
        "outputId": "7d6c9e9f-9096-4ee9-cdae-c541b949fcc9"
      },
      "outputs": [
        {
          "data": {
            "text/plain": [
              "tensor([[-0.1541,  0.5336],\n",
              "        [ 0.6827, -0.5724]], device='cuda:0')"
            ]
          },
          "execution_count": 49,
          "metadata": {},
          "output_type": "execute_result"
        }
      ],
      "source": [
        "x"
      ]
    },
    {
      "cell_type": "code",
      "execution_count": 50,
      "metadata": {
        "colab": {
          "base_uri": "https://localhost:8080/"
        },
        "id": "pWaqQKXawER9",
        "outputId": "355ee4f1-c097-421f-8a92-545e29333ef2"
      },
      "outputs": [
        {
          "data": {
            "text/plain": [
              "tensor([[-0.1541,  0.5336],\n",
              "        [ 0.6827, -0.5724]], device='cuda:0')"
            ]
          },
          "execution_count": 50,
          "metadata": {},
          "output_type": "execute_result"
        }
      ],
      "source": [
        "x.new(2, 2)\n",
        "# 텐서(Tensor) 객체 x와 동일한 데이터 유형(dtype), 장치(device)를 가지는 새로운 2x2 텐서를 생성하는 코드"
      ]
    },
    {
      "cell_type": "code",
      "execution_count": 51,
      "metadata": {
        "colab": {
          "base_uri": "https://localhost:8080/"
        },
        "id": "5HExTLkjwER9",
        "outputId": "c86d1618-56f8-4a99-9ff4-459afeffd64a"
      },
      "outputs": [
        {
          "data": {
            "text/plain": [
              "tensor([[0., 0.],\n",
              "        [0., 0.]], device='cuda:0')"
            ]
          },
          "execution_count": 51,
          "metadata": {},
          "output_type": "execute_result"
        }
      ],
      "source": [
        "torch.zeros_like(x)"
      ]
    },
    {
      "cell_type": "code",
      "execution_count": 52,
      "metadata": {
        "colab": {
          "base_uri": "https://localhost:8080/"
        },
        "id": "KHZJoBpZwER9",
        "outputId": "c6b8d264-e3de-4f53-baff-8989fa91d513"
      },
      "outputs": [
        {
          "data": {
            "text/plain": [
              "tensor([[1., 1.],\n",
              "        [1., 1.]], device='cuda:0')"
            ]
          },
          "execution_count": 52,
          "metadata": {},
          "output_type": "execute_result"
        }
      ],
      "source": [
        "torch.ones_like(x)"
      ]
    },
    {
      "cell_type": "code",
      "execution_count": 53,
      "metadata": {
        "colab": {
          "base_uri": "https://localhost:8080/"
        },
        "id": "GCwTmylUagBE",
        "outputId": "e5f6de1e-1e5d-40ee-d2ab-14ed2ae8c6b5"
      },
      "outputs": [
        {
          "data": {
            "text/plain": [
              "[Parameter containing:\n",
              " tensor([[-0.0684,  0.2269],\n",
              "         [ 0.6827, -0.5724]], device='cuda:0', requires_grad=True),\n",
              " Parameter containing:\n",
              " tensor([-0.1541,  0.5336], device='cuda:0', requires_grad=True)]"
            ]
          },
          "execution_count": 53,
          "metadata": {},
          "output_type": "execute_result"
        }
      ],
      "source": [
        "list(linear.parameters())"
      ]
    },
    {
      "cell_type": "code",
      "execution_count": 54,
      "metadata": {
        "colab": {
          "base_uri": "https://localhost:8080/"
        },
        "id": "rKBl_jiXakNL",
        "outputId": "e4f55bd3-9e3e-4ce1-c539-11b2fc11f179"
      },
      "outputs": [
        {
          "data": {
            "text/plain": [
              "Parameter containing:\n",
              "tensor([[-0.0684,  0.2269],\n",
              "        [ 0.6827, -0.5724]], device='cuda:0', requires_grad=True)"
            ]
          },
          "execution_count": 54,
          "metadata": {},
          "output_type": "execute_result"
        }
      ],
      "source": [
        "list(linear.parameters())[0]"
      ]
    },
    {
      "cell_type": "code",
      "execution_count": 55,
      "metadata": {
        "colab": {
          "base_uri": "https://localhost:8080/"
        },
        "id": "AP3eZRnJwER9",
        "outputId": "c8bdbcbe-7ab1-4dd8-a968-c99deed084f6"
      },
      "outputs": [
        {
          "data": {
            "text/plain": [
              "tensor([[-0.0684,  0.2269],\n",
              "        [ 0.6827, -0.5724]], device='cuda:0')"
            ]
          },
          "execution_count": 55,
          "metadata": {},
          "output_type": "execute_result"
        }
      ],
      "source": [
        "list(linear.parameters())[0].new(2, 2)"
      ]
    },
    {
      "cell_type": "code",
      "execution_count": 55,
      "metadata": {
        "id": "HvC-EremwER-"
      },
      "outputs": [],
      "source": []
    }
  ],
  "metadata": {
    "accelerator": "GPU",
    "colab": {
      "gpuType": "T4",
      "provenance": []
    },
    "kernelspec": {
      "display_name": "Python 3",
      "name": "python3"
    },
    "language_info": {
      "codemirror_mode": {
        "name": "ipython",
        "version": 3
      },
      "file_extension": ".py",
      "mimetype": "text/x-python",
      "name": "python",
      "nbconvert_exporter": "python",
      "pygments_lexer": "ipython3",
      "version": "3.11.7"
    }
  },
  "nbformat": 4,
  "nbformat_minor": 0
}
