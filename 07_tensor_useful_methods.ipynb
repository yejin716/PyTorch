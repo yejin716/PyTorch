{
 "cells": [
  {
   "cell_type": "markdown",
   "metadata": {},
   "source": [
    "# PyTorch Useful Methods"
   ]
  },
  {
   "cell_type": "code",
   "execution_count": 98,
   "metadata": {},
   "outputs": [],
   "source": [
    "import torch"
   ]
  },
  {
   "cell_type": "markdown",
   "metadata": {},
   "source": [
    "### expand: copy the given tensor and concat those at desired dimension."
   ]
  },
  {
   "cell_type": "code",
   "execution_count": 99,
   "metadata": {},
   "outputs": [
    {
     "name": "stdout",
     "output_type": "stream",
     "text": [
      "tensor([[[1., 2.]],\n",
      "\n",
      "        [[3., 4.]]])\n",
      "torch.Size([2, 1, 2])\n"
     ]
    }
   ],
   "source": [
    "x = torch.FloatTensor([[[1, 2]],\n",
    "                       [[3, 4]]])\n",
    "\n",
    "print(x)\n",
    "print(x.size())"
   ]
  },
  {
   "cell_type": "code",
   "execution_count": 100,
   "metadata": {},
   "outputs": [
    {
     "name": "stdout",
     "output_type": "stream",
     "text": [
      "tensor([[[1., 2.],\n",
      "         [1., 2.],\n",
      "         [1., 2.]],\n",
      "\n",
      "        [[3., 4.],\n",
      "         [3., 4.],\n",
      "         [3., 4.]]])\n",
      "torch.Size([2, 3, 2])\n"
     ]
    }
   ],
   "source": [
    "y = x.expand(*[2, 3, 2])\n",
    "# 텐서의 데이터를 반복하여 확장된 새로운 크기의 텐서를 생성\n",
    "\n",
    "print(y)\n",
    "print(y.size())"
   ]
  },
  {
   "cell_type": "markdown",
   "metadata": {},
   "source": [
    "#### Implement expand with cat."
   ]
  },
  {
   "cell_type": "code",
   "execution_count": 101,
   "metadata": {},
   "outputs": [
    {
     "name": "stdout",
     "output_type": "stream",
     "text": [
      "tensor([[[1., 2.],\n",
      "         [1., 2.],\n",
      "         [1., 2.]],\n",
      "\n",
      "        [[3., 4.],\n",
      "         [3., 4.],\n",
      "         [3., 4.]]])\n",
      "torch.Size([2, 3, 2])\n"
     ]
    }
   ],
   "source": [
    "y = torch.cat([x, x, x], dim=1)\n",
    "\n",
    "print(y)\n",
    "print(y.size())"
   ]
  },
  {
   "cell_type": "markdown",
   "metadata": {},
   "source": [
    "### randperm: Random Permutation"
   ]
  },
  {
   "cell_type": "code",
   "execution_count": 102,
   "metadata": {},
   "outputs": [
    {
     "name": "stdout",
     "output_type": "stream",
     "text": [
      "tensor([6, 5, 1, 0, 9, 7, 3, 8, 4, 2])\n",
      "torch.Size([10])\n"
     ]
    }
   ],
   "source": [
    "# randperm() : 랜덤 수열을 생성\n",
    "x = torch.randperm(10)\n",
    "\n",
    "print(x)\n",
    "print(x.size())"
   ]
  },
  {
   "cell_type": "markdown",
   "metadata": {},
   "source": [
    "### argmax: Return index of maximum values"
   ]
  },
  {
   "cell_type": "code",
   "execution_count": 103,
   "metadata": {},
   "outputs": [
    {
     "name": "stdout",
     "output_type": "stream",
     "text": [
      "tensor([ 5, 24,  3, 13,  9,  0, 18, 17, 12,  6, 20, 10, 14, 15, 25, 21,  7,  2,\n",
      "         4, 19, 22, 11, 16, 26,  1,  8, 23])\n",
      "torch.Size([27])\n"
     ]
    }
   ],
   "source": [
    "x = torch.randperm(3**3)\n",
    "print(x)\n",
    "print(x.size())"
   ]
  },
  {
   "cell_type": "code",
   "execution_count": 104,
   "metadata": {
    "scrolled": true
   },
   "outputs": [
    {
     "name": "stdout",
     "output_type": "stream",
     "text": [
      "tensor([[[ 7, 21, 18],\n",
      "         [ 4, 15, 20],\n",
      "         [10,  1, 17]],\n",
      "\n",
      "        [[22, 11, 14],\n",
      "         [23,  3,  2],\n",
      "         [ 8, 26, 12]],\n",
      "\n",
      "        [[ 9, 25,  6],\n",
      "         [13, 16, 19],\n",
      "         [24,  5,  0]]])\n",
      "torch.Size([3, 3, 3])\n"
     ]
    }
   ],
   "source": [
    "x = torch.randperm(3**3).reshape(3, 3, -1)\n",
    "\n",
    "print(x)\n",
    "print(x.size())"
   ]
  },
  {
   "cell_type": "code",
   "execution_count": 105,
   "metadata": {},
   "outputs": [
    {
     "name": "stdout",
     "output_type": "stream",
     "text": [
      "tensor([[1, 2, 2],\n",
      "        [0, 0, 1],\n",
      "        [1, 2, 0]])\n",
      "torch.Size([3, 3])\n"
     ]
    }
   ],
   "source": [
    "# argmax() : f(X) 함수의 출력값을 최대로 만드는 입력(index) 반환 \n",
    "y = x.argmax(dim=-1)\n",
    "\n",
    "print(y)\n",
    "print(y.size())"
   ]
  },
  {
   "cell_type": "markdown",
   "metadata": {},
   "source": [
    "### topk: Return tuple of top-k values and indices."
   ]
  },
  {
   "cell_type": "code",
   "execution_count": 106,
   "metadata": {
    "scrolled": false
   },
   "outputs": [
    {
     "name": "stdout",
     "output_type": "stream",
     "text": [
      "tensor([[[21],\n",
      "         [20],\n",
      "         [17]],\n",
      "\n",
      "        [[22],\n",
      "         [23],\n",
      "         [26]],\n",
      "\n",
      "        [[25],\n",
      "         [19],\n",
      "         [24]]])\n",
      "\n",
      "tensor([[[1],\n",
      "         [2],\n",
      "         [2]],\n",
      "\n",
      "        [[0],\n",
      "         [0],\n",
      "         [1]],\n",
      "\n",
      "        [[1],\n",
      "         [2],\n",
      "         [0]]])\n",
      "\n",
      "torch.Size([3, 3, 1])\n",
      "torch.Size([3, 3, 1])\n"
     ]
    }
   ],
   "source": [
    "# topk : 가장 큰 k개의 값과 인덱스 반환 \n",
    "values, indices = torch.topk(x, k=1, dim=-1)\n",
    "\n",
    "print(values) \n",
    "print()\n",
    "print(indices)\n",
    "print()\n",
    "print(values.size())\n",
    "print(indices.size())\n",
    "# torch.Size([3, 3, 1]) k=1 때문 "
   ]
  },
  {
   "cell_type": "markdown",
   "metadata": {},
   "source": [
    "Note that topk didn't reduce the dimension, even in $k=1$ case."
   ]
  },
  {
   "cell_type": "code",
   "execution_count": 107,
   "metadata": {},
   "outputs": [
    {
     "name": "stdout",
     "output_type": "stream",
     "text": [
      "tensor([[21, 20, 17],\n",
      "        [22, 23, 26],\n",
      "        [25, 19, 24]])\n",
      "torch.Size([3, 3])\n",
      "\n",
      "tensor([[1, 2, 2],\n",
      "        [0, 0, 1],\n",
      "        [1, 2, 0]])\n",
      "torch.Size([3, 3])\n"
     ]
    }
   ],
   "source": [
    "print(values.squeeze(-1)) #마지막 차원이 1일경우 제거 \n",
    "print(values.squeeze(-1).size())\n",
    "print()\n",
    "print(indices.squeeze(-1))\n",
    "print(indices.squeeze(-1).size())"
   ]
  },
  {
   "cell_type": "code",
   "execution_count": 108,
   "metadata": {},
   "outputs": [
    {
     "name": "stdout",
     "output_type": "stream",
     "text": [
      "tensor([[True, True, True],\n",
      "        [True, True, True],\n",
      "        [True, True, True]])\n"
     ]
    }
   ],
   "source": [
    "print(x.argmax(dim=-1) == indices.squeeze(-1))"
   ]
  },
  {
   "cell_type": "code",
   "execution_count": 109,
   "metadata": {},
   "outputs": [
    {
     "name": "stdout",
     "output_type": "stream",
     "text": [
      "torch.Size([3, 3, 2])\n",
      "tensor([[True, True, True],\n",
      "        [True, True, True],\n",
      "        [True, True, True]])\n"
     ]
    }
   ],
   "source": [
    "_, indices = torch.topk(x, k=2, dim=-1)\n",
    "print(indices.size()) \n",
    "# torch.Size([3, 3, 2]) k=2 때문 \n",
    "\n",
    "print(x.argmax(dim=-1) == indices[:, :, 0]) "
   ]
  },
  {
   "cell_type": "code",
   "execution_count": 110,
   "metadata": {},
   "outputs": [
    {
     "name": "stdout",
     "output_type": "stream",
     "text": [
      "tensor([[1, 2, 2],\n",
      "        [0, 0, 1],\n",
      "        [1, 2, 0]])\n",
      "torch.Size([3, 3])\n"
     ]
    }
   ],
   "source": [
    "print(indices[:, :, 0])\n",
    "print(indices[:, :, 0].size())\n",
    "# torch.Size([3, 3]) k=0"
   ]
  },
  {
   "cell_type": "markdown",
   "metadata": {},
   "source": [
    "### Sort by using topk"
   ]
  },
  {
   "cell_type": "code",
   "execution_count": 111,
   "metadata": {},
   "outputs": [
    {
     "name": "stdout",
     "output_type": "stream",
     "text": [
      "tensor([[[21, 18,  7],\n",
      "         [20, 15,  4],\n",
      "         [17, 10,  1]],\n",
      "\n",
      "        [[22, 14, 11],\n",
      "         [23,  3,  2],\n",
      "         [26, 12,  8]],\n",
      "\n",
      "        [[25,  9,  6],\n",
      "         [19, 16, 13],\n",
      "         [24,  5,  0]]])\n"
     ]
    }
   ],
   "source": [
    "target_dim = -1\n",
    "values, indices = torch.topk(x,\n",
    "                             k=x.size(target_dim),\n",
    "                             largest=True) # 내림차순\n",
    "#x.size(-1) >> 마지막 차원의 크기 >> 3 \n",
    "print(values)"
   ]
  },
  {
   "cell_type": "markdown",
   "metadata": {},
   "source": [
    "### Topk by using sort"
   ]
  },
  {
   "cell_type": "code",
   "execution_count": 112,
   "metadata": {},
   "outputs": [
    {
     "name": "stdout",
     "output_type": "stream",
     "text": [
      "tensor([[[21, 18,  7],\n",
      "         [20, 15,  4],\n",
      "         [17, 10,  1]],\n",
      "\n",
      "        [[22, 14, 11],\n",
      "         [23,  3,  2],\n",
      "         [26, 12,  8]],\n",
      "\n",
      "        [[25,  9,  6],\n",
      "         [19, 16, 13],\n",
      "         [24,  5,  0]]])\n",
      "tensor([[[1, 2, 0],\n",
      "         [2, 1, 0],\n",
      "         [2, 0, 1]],\n",
      "\n",
      "        [[0, 2, 1],\n",
      "         [0, 1, 2],\n",
      "         [1, 2, 0]],\n",
      "\n",
      "        [[1, 0, 2],\n",
      "         [2, 1, 0],\n",
      "         [0, 1, 2]]])\n"
     ]
    }
   ],
   "source": [
    "k=1\n",
    "values, indices = torch.sort(x, dim=-1, descending=True) #내림차순\n",
    "\n",
    "print(values)\n",
    "print(indices)"
   ]
  },
  {
   "cell_type": "code",
   "execution_count": 113,
   "metadata": {},
   "outputs": [
    {
     "name": "stdout",
     "output_type": "stream",
     "text": [
      "tensor([[[21],\n",
      "         [20],\n",
      "         [17]],\n",
      "\n",
      "        [[22],\n",
      "         [23],\n",
      "         [26]],\n",
      "\n",
      "        [[25],\n",
      "         [19],\n",
      "         [24]]])\n",
      "torch.Size([3, 3, 1])\n"
     ]
    }
   ],
   "source": [
    "print(values[:,:,:1])\n",
    "print(values[:,:,:1].size())"
   ]
  },
  {
   "cell_type": "code",
   "execution_count": 114,
   "metadata": {},
   "outputs": [
    {
     "name": "stdout",
     "output_type": "stream",
     "text": [
      "tensor([[[21],\n",
      "         [20],\n",
      "         [17]],\n",
      "\n",
      "        [[22],\n",
      "         [23],\n",
      "         [26]],\n",
      "\n",
      "        [[25],\n",
      "         [19],\n",
      "         [24]]])\n",
      "tensor([[[1],\n",
      "         [2],\n",
      "         [2]],\n",
      "\n",
      "        [[0],\n",
      "         [0],\n",
      "         [1]],\n",
      "\n",
      "        [[1],\n",
      "         [2],\n",
      "         [0]]])\n",
      "torch.Size([3, 3, 1])\n",
      "torch.Size([3, 3, 1])\n"
     ]
    }
   ],
   "source": [
    "values, indices = values[:, :, :k], indices[:, :, :k] \n",
    "# k=1 >> values[:,:, :1] >> 각 행렬의 0번째 열 ~ (k-1)열까지 선택 \n",
    "# k=1 >> 0번째 열만 선택 \n",
    "\n",
    "print(values)\n",
    "print(indices)\n",
    "\n",
    "print(values.size()) # (3,3,1) >> 각 행렬의 첫번째 열만 포함 \n",
    "print(indices.size())"
   ]
  },
  {
   "cell_type": "code",
   "execution_count": 122,
   "metadata": {},
   "outputs": [
    {
     "name": "stdout",
     "output_type": "stream",
     "text": [
      "tensor([[21, 20, 17],\n",
      "        [22, 23, 26],\n",
      "        [25, 19, 24]])\n",
      "tensor([[1, 2, 2],\n",
      "        [0, 0, 1],\n",
      "        [1, 2, 0]])\n",
      "torch.Size([3, 3])\n",
      "torch.Size([3, 3])\n"
     ]
    }
   ],
   "source": [
    "print(values.squeeze(-1))\n",
    "print(indices.squeeze(-1))\n",
    "\n",
    "print(values.squeeze(-1).size())\n",
    "print(indices.squeeze(-1).size())"
   ]
  },
  {
   "cell_type": "markdown",
   "metadata": {},
   "source": [
    "### masked_fill: fill the value if element of mask is True."
   ]
  },
  {
   "cell_type": "code",
   "execution_count": 126,
   "metadata": {},
   "outputs": [],
   "source": [
    "# 텐서 내 원하는 부분만 특정 값으로 바꾸기  "
   ]
  },
  {
   "cell_type": "code",
   "execution_count": 123,
   "metadata": {},
   "outputs": [
    {
     "data": {
      "text/plain": [
       "tensor([0., 1., 2., 3., 4., 5., 6., 7., 8.])"
      ]
     },
     "execution_count": 123,
     "metadata": {},
     "output_type": "execute_result"
    }
   ],
   "source": [
    "torch.FloatTensor([i for i in range(3**2)])"
   ]
  },
  {
   "cell_type": "code",
   "execution_count": 124,
   "metadata": {},
   "outputs": [
    {
     "name": "stdout",
     "output_type": "stream",
     "text": [
      "tensor([[0., 1., 2.],\n",
      "        [3., 4., 5.],\n",
      "        [6., 7., 8.]])\n",
      "torch.Size([3, 3])\n"
     ]
    }
   ],
   "source": [
    "x = torch.FloatTensor([i for i in range(3**2)]).reshape(3, -1) # 3 * ? = 9\n",
    "\n",
    "print(x)\n",
    "print(x.size())"
   ]
  },
  {
   "cell_type": "code",
   "execution_count": 125,
   "metadata": {},
   "outputs": [
    {
     "name": "stdout",
     "output_type": "stream",
     "text": [
      "tensor([[False, False, False],\n",
      "        [False, False,  True],\n",
      "        [ True,  True,  True]])\n"
     ]
    }
   ],
   "source": [
    "mask = x > 4\n",
    "\n",
    "print(mask)"
   ]
  },
  {
   "cell_type": "code",
   "execution_count": 127,
   "metadata": {},
   "outputs": [
    {
     "name": "stdout",
     "output_type": "stream",
     "text": [
      "tensor([[ 0.,  1.,  2.],\n",
      "        [ 3.,  4., -1.],\n",
      "        [-1., -1., -1.]])\n"
     ]
    }
   ],
   "source": [
    "y = x.masked_fill(mask, value=-1)\n",
    "# 주어진 마스크 텐서가 True인 위치를 지정된 값으로 채움\n",
    "print(y)"
   ]
  },
  {
   "cell_type": "markdown",
   "metadata": {},
   "source": [
    "### Ones and Zeros"
   ]
  },
  {
   "cell_type": "code",
   "execution_count": 128,
   "metadata": {},
   "outputs": [
    {
     "name": "stdout",
     "output_type": "stream",
     "text": [
      "tensor([[1., 1., 1.],\n",
      "        [1., 1., 1.]])\n",
      "tensor([[0., 0., 0.],\n",
      "        [0., 0., 0.]])\n"
     ]
    }
   ],
   "source": [
    "print(torch.ones(2, 3))\n",
    "print(torch.zeros(2, 3))"
   ]
  },
  {
   "cell_type": "code",
   "execution_count": 129,
   "metadata": {},
   "outputs": [
    {
     "name": "stdout",
     "output_type": "stream",
     "text": [
      "tensor([[1., 2., 3.],\n",
      "        [4., 5., 6.]])\n",
      "torch.Size([2, 3])\n"
     ]
    }
   ],
   "source": [
    "x = torch.FloatTensor([[1, 2, 3],\n",
    "                       [4, 5, 6]])\n",
    "\n",
    "print(x)\n",
    "print(x.size())"
   ]
  },
  {
   "cell_type": "code",
   "execution_count": 130,
   "metadata": {},
   "outputs": [
    {
     "name": "stdout",
     "output_type": "stream",
     "text": [
      "tensor([[1., 1., 1.],\n",
      "        [1., 1., 1.]])\n",
      "tensor([[0., 0., 0.],\n",
      "        [0., 0., 0.]])\n"
     ]
    }
   ],
   "source": [
    "print(torch.ones_like(x))\n",
    "print(torch.zeros_like(x))"
   ]
  },
  {
   "cell_type": "code",
   "execution_count": null,
   "metadata": {},
   "outputs": [],
   "source": []
  }
 ],
 "metadata": {
  "kernelspec": {
   "display_name": "Python 3",
   "language": "python",
   "name": "python3"
  },
  "language_info": {
   "codemirror_mode": {
    "name": "ipython",
    "version": 3
   },
   "file_extension": ".py",
   "mimetype": "text/x-python",
   "name": "python",
   "nbconvert_exporter": "python",
   "pygments_lexer": "ipython3",
   "version": "3.11.7"
  }
 },
 "nbformat": 4,
 "nbformat_minor": 2
}
