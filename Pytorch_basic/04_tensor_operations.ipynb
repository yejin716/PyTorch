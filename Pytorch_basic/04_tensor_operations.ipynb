{
  "nbformat": 4,
  "nbformat_minor": 0,
  "metadata": {
    "colab": {
      "provenance": []
    },
    "kernelspec": {
      "name": "python3",
      "display_name": "Python 3"
    },
    "language_info": {
      "name": "python"
    }
  },
  "cells": [
    {
      "cell_type": "code",
      "execution_count": 1,
      "metadata": {
        "id": "Q3E6DB1XGBW-"
      },
      "outputs": [],
      "source": [
        "import torch\n",
        "\n",
        "a = torch.FloatTensor([[1, 2],\n",
        "                       [3, 4]])\n",
        "b = torch.FloatTensor([[2, 2],\n",
        "                       [3, 3]])"
      ]
    },
    {
      "cell_type": "code",
      "source": [
        "print(a)\n",
        "print(b)\n"
      ],
      "metadata": {
        "colab": {
          "base_uri": "https://localhost:8080/"
        },
        "id": "JDwzmy3DGI6g",
        "outputId": "77378195-6cbe-4c61-a7f1-cc7c571f1fe5"
      },
      "execution_count": 2,
      "outputs": [
        {
          "output_type": "stream",
          "name": "stdout",
          "text": [
            "tensor([[1., 2.],\n",
            "        [3., 4.]])\n",
            "tensor([[2., 2.],\n",
            "        [3., 3.]])\n"
          ]
        }
      ]
    },
    {
      "cell_type": "code",
      "source": [
        "a + b"
      ],
      "metadata": {
        "colab": {
          "base_uri": "https://localhost:8080/"
        },
        "id": "YP1cpZ_bGI4x",
        "outputId": "76ae64d1-5e25-4f5d-8859-bfecd1b734bf"
      },
      "execution_count": 3,
      "outputs": [
        {
          "output_type": "execute_result",
          "data": {
            "text/plain": [
              "tensor([[3., 4.],\n",
              "        [6., 7.]])"
            ]
          },
          "metadata": {},
          "execution_count": 3
        }
      ]
    },
    {
      "cell_type": "code",
      "source": [
        "a - b"
      ],
      "metadata": {
        "colab": {
          "base_uri": "https://localhost:8080/"
        },
        "id": "VZbSjaaxGI1e",
        "outputId": "c16a5eb1-1fc3-4dc6-9286-05f8674eead5"
      },
      "execution_count": 4,
      "outputs": [
        {
          "output_type": "execute_result",
          "data": {
            "text/plain": [
              "tensor([[-1.,  0.],\n",
              "        [ 0.,  1.]])"
            ]
          },
          "metadata": {},
          "execution_count": 4
        }
      ]
    },
    {
      "cell_type": "code",
      "source": [
        "a * b"
      ],
      "metadata": {
        "colab": {
          "base_uri": "https://localhost:8080/"
        },
        "id": "Fcem0baaGIze",
        "outputId": "26002e5d-ac25-4814-d2e9-e7d67915b4ac"
      },
      "execution_count": 5,
      "outputs": [
        {
          "output_type": "execute_result",
          "data": {
            "text/plain": [
              "tensor([[ 2.,  4.],\n",
              "        [ 9., 12.]])"
            ]
          },
          "metadata": {},
          "execution_count": 5
        }
      ]
    },
    {
      "cell_type": "code",
      "source": [
        "a / b"
      ],
      "metadata": {
        "colab": {
          "base_uri": "https://localhost:8080/"
        },
        "id": "8KxvtptUGIxX",
        "outputId": "bda152b1-6ac9-4be7-fbd8-99a6a0bf8740"
      },
      "execution_count": 6,
      "outputs": [
        {
          "output_type": "execute_result",
          "data": {
            "text/plain": [
              "tensor([[0.5000, 1.0000],\n",
              "        [1.0000, 1.3333]])"
            ]
          },
          "metadata": {},
          "execution_count": 6
        }
      ]
    },
    {
      "cell_type": "code",
      "source": [
        "a == b"
      ],
      "metadata": {
        "colab": {
          "base_uri": "https://localhost:8080/"
        },
        "id": "o7vDyqQnGU3-",
        "outputId": "25d3afd2-a1f0-42d1-9784-e9400d5c80c5"
      },
      "execution_count": 7,
      "outputs": [
        {
          "output_type": "execute_result",
          "data": {
            "text/plain": [
              "tensor([[False,  True],\n",
              "        [ True, False]])"
            ]
          },
          "metadata": {},
          "execution_count": 7
        }
      ]
    },
    {
      "cell_type": "code",
      "source": [
        "a != b"
      ],
      "metadata": {
        "colab": {
          "base_uri": "https://localhost:8080/"
        },
        "id": "lyisH6ICGW2u",
        "outputId": "f00ab174-c8ca-4664-9d56-41145b697383"
      },
      "execution_count": 8,
      "outputs": [
        {
          "output_type": "execute_result",
          "data": {
            "text/plain": [
              "tensor([[ True, False],\n",
              "        [False,  True]])"
            ]
          },
          "metadata": {},
          "execution_count": 8
        }
      ]
    },
    {
      "cell_type": "code",
      "source": [
        "a ** b"
      ],
      "metadata": {
        "colab": {
          "base_uri": "https://localhost:8080/"
        },
        "id": "re2UTKwdGYOz",
        "outputId": "298d0d98-7fc3-43f7-a349-b7dbfb4e1c07"
      },
      "execution_count": 9,
      "outputs": [
        {
          "output_type": "execute_result",
          "data": {
            "text/plain": [
              "tensor([[ 1.,  4.],\n",
              "        [27., 64.]])"
            ]
          },
          "metadata": {},
          "execution_count": 9
        }
      ]
    },
    {
      "cell_type": "code",
      "source": [
        "# 같은 산술 연산 수행하나 기존 텐서에 결과가 저장됨"
      ],
      "metadata": {
        "id": "9R42Dsg5GZqa"
      },
      "execution_count": null,
      "outputs": []
    },
    {
      "cell_type": "code",
      "source": [
        "print(a)\n",
        "print(b)\n",
        "print()\n",
        "print(a.mul(b)) #a * b"
      ],
      "metadata": {
        "colab": {
          "base_uri": "https://localhost:8080/"
        },
        "id": "ZKtGnegdGciN",
        "outputId": "a5f91cf8-9f00-4b95-ae8d-5da86c595681"
      },
      "execution_count": 11,
      "outputs": [
        {
          "output_type": "stream",
          "name": "stdout",
          "text": [
            "tensor([[1., 2.],\n",
            "        [3., 4.]])\n",
            "tensor([[2., 2.],\n",
            "        [3., 3.]])\n",
            "\n",
            "tensor([[ 2.,  4.],\n",
            "        [ 9., 12.]])\n"
          ]
        }
      ]
    },
    {
      "cell_type": "code",
      "source": [
        "print(a)\n",
        "print(b)\n",
        "print()\n",
        "print(a.mul_(b)) #곱셈 연산 결과 >> tensor a에 저장됨"
      ],
      "metadata": {
        "colab": {
          "base_uri": "https://localhost:8080/"
        },
        "id": "YZ4j9YlAGfEi",
        "outputId": "93cf46d8-1d1b-4592-d258-4d6aa5e259af"
      },
      "execution_count": 12,
      "outputs": [
        {
          "output_type": "stream",
          "name": "stdout",
          "text": [
            "tensor([[1., 2.],\n",
            "        [3., 4.]])\n",
            "tensor([[2., 2.],\n",
            "        [3., 3.]])\n",
            "\n",
            "tensor([[ 2.,  4.],\n",
            "        [ 9., 12.]])\n"
          ]
        }
      ]
    },
    {
      "cell_type": "code",
      "source": [
        "print(a)"
      ],
      "metadata": {
        "colab": {
          "base_uri": "https://localhost:8080/"
        },
        "id": "AwWwIJiZGw8i",
        "outputId": "7c55b44c-e0f9-4ac2-edc3-20a5d1e50cc3"
      },
      "execution_count": 13,
      "outputs": [
        {
          "output_type": "stream",
          "name": "stdout",
          "text": [
            "tensor([[ 2.,  4.],\n",
            "        [ 9., 12.]])\n"
          ]
        }
      ]
    },
    {
      "cell_type": "code",
      "source": [
        "x = torch.FloatTensor([[1, 2],\n",
        "                       [3, 4]])"
      ],
      "metadata": {
        "id": "EzUaoCdhGyB5"
      },
      "execution_count": 14,
      "outputs": []
    },
    {
      "cell_type": "code",
      "source": [
        "x.sum()\n",
        "x.mean()"
      ],
      "metadata": {
        "colab": {
          "base_uri": "https://localhost:8080/"
        },
        "id": "G3dQ6eNpGx8K",
        "outputId": "0061caa7-9614-4080-d2b5-6b2fee907169"
      },
      "execution_count": 16,
      "outputs": [
        {
          "output_type": "execute_result",
          "data": {
            "text/plain": [
              "tensor(2.5000)"
            ]
          },
          "metadata": {},
          "execution_count": 16
        }
      ]
    },
    {
      "cell_type": "code",
      "source": [
        "print(x.sum(dim=0))\n",
        "# 1번째 차원 (행렬의 세로축에 대해서 합 연산 수행 )"
      ],
      "metadata": {
        "colab": {
          "base_uri": "https://localhost:8080/"
        },
        "id": "4-8T1F_wGx5O",
        "outputId": "7a0e7d52-984e-4435-8825-6f78039ca134"
      },
      "execution_count": 17,
      "outputs": [
        {
          "output_type": "stream",
          "name": "stdout",
          "text": [
            "tensor([4., 6.])\n"
          ]
        }
      ]
    },
    {
      "cell_type": "code",
      "source": [
        "print(x.sum(dim=1))\n",
        "# 2번째 차원 (행렬의 가로축에 대해서 합 연산 수행 )"
      ],
      "metadata": {
        "colab": {
          "base_uri": "https://localhost:8080/"
        },
        "id": "3ALlvNaJHAgB",
        "outputId": "351336a3-4446-4506-a4fa-722be26ffe84"
      },
      "execution_count": 18,
      "outputs": [
        {
          "output_type": "stream",
          "name": "stdout",
          "text": [
            "tensor([3., 7.])\n"
          ]
        }
      ]
    },
    {
      "cell_type": "code",
      "source": [
        "x = torch.FloatTensor([[1, 2]])\n",
        "y = torch.FloatTensor([[4, 8]])\n",
        "\n",
        "print(x)\n",
        "print(y)\n",
        "print()\n",
        "print(x.size())\n",
        "print(y.size()) #1행 2열임을 의미 >> 첫번째 차원의 크기가 1 두번째 차원의 크기 2"
      ],
      "metadata": {
        "colab": {
          "base_uri": "https://localhost:8080/"
        },
        "id": "9WmNmzPeHD60",
        "outputId": "bc78c857-c7da-46c0-b77d-51f31dc668b6"
      },
      "execution_count": 19,
      "outputs": [
        {
          "output_type": "stream",
          "name": "stdout",
          "text": [
            "tensor([[1., 2.]])\n",
            "tensor([[4., 8.]])\n",
            "\n",
            "torch.Size([1, 2])\n",
            "torch.Size([1, 2])\n"
          ]
        }
      ]
    },
    {
      "cell_type": "code",
      "source": [
        "z = x + y\n",
        "print(z)\n",
        "print(z.size())"
      ],
      "metadata": {
        "colab": {
          "base_uri": "https://localhost:8080/"
        },
        "id": "w7cv74DXHfTv",
        "outputId": "d7a5ee54-6f0a-4f95-b63e-941f3b1956d8"
      },
      "execution_count": 20,
      "outputs": [
        {
          "output_type": "stream",
          "name": "stdout",
          "text": [
            "tensor([[ 5., 10.]])\n",
            "torch.Size([1, 2])\n"
          ]
        }
      ]
    },
    {
      "cell_type": "markdown",
      "source": [
        "Tensor + Scalar"
      ],
      "metadata": {
        "id": "KwTlFfPbIftP"
      }
    },
    {
      "cell_type": "code",
      "source": [
        "x = torch.FloatTensor([[1, 2],\n",
        "                       [3, 4]])\n",
        "y = 1\n",
        "\n",
        "print(x)\n",
        "print(y)\n",
        "\n",
        "print(x.size())"
      ],
      "metadata": {
        "colab": {
          "base_uri": "https://localhost:8080/"
        },
        "id": "CmlxqPG1H8VS",
        "outputId": "3cfdafaf-78e8-42e3-c203-11289faece6d"
      },
      "execution_count": 21,
      "outputs": [
        {
          "output_type": "stream",
          "name": "stdout",
          "text": [
            "tensor([[1., 2.],\n",
            "        [3., 4.]])\n",
            "1\n",
            "torch.Size([2, 2])\n"
          ]
        }
      ]
    },
    {
      "cell_type": "code",
      "source": [
        "z = x + y\n",
        "print(z)\n",
        "print(z.size())"
      ],
      "metadata": {
        "colab": {
          "base_uri": "https://localhost:8080/"
        },
        "id": "QUqKvgWRIM6r",
        "outputId": "82ebf6cd-9547-4633-edb9-801d6527f80b"
      },
      "execution_count": 22,
      "outputs": [
        {
          "output_type": "stream",
          "name": "stdout",
          "text": [
            "tensor([[2., 3.],\n",
            "        [4., 5.]])\n",
            "torch.Size([2, 2])\n"
          ]
        }
      ]
    },
    {
      "cell_type": "markdown",
      "source": [
        "Tensor + Vector"
      ],
      "metadata": {
        "id": "H6i2oYQoIcsK"
      }
    },
    {
      "cell_type": "code",
      "source": [
        "x = torch.FloatTensor([[1, 2, 3],\n",
        "                       [4, 8, 9]])\n",
        "\n",
        "print(x.size())"
      ],
      "metadata": {
        "colab": {
          "base_uri": "https://localhost:8080/"
        },
        "id": "345mXnoIIld0",
        "outputId": "b04f928d-e57d-4dcd-ba63-1bf3f9b2c65b"
      },
      "execution_count": 24,
      "outputs": [
        {
          "output_type": "stream",
          "name": "stdout",
          "text": [
            "torch.Size([2, 3])\n"
          ]
        }
      ]
    },
    {
      "cell_type": "code",
      "source": [
        "x = torch.FloatTensor([[1, 2],\n",
        "                       [4, 8]])\n",
        "y = torch.FloatTensor([3, 5])\n",
        "\n",
        "print(x)\n",
        "print(y)\n",
        "print()\n",
        "print(x.size())\n",
        "print(y.size()) #단일 차원 2개의 요소를 가진 1차원 벡터"
      ],
      "metadata": {
        "colab": {
          "base_uri": "https://localhost:8080/"
        },
        "id": "yJywJJnPIZ-o",
        "outputId": "6cae8143-a962-41ae-cf7b-2488a8d39d68"
      },
      "execution_count": 25,
      "outputs": [
        {
          "output_type": "stream",
          "name": "stdout",
          "text": [
            "tensor([[1., 2.],\n",
            "        [4., 8.]])\n",
            "tensor([3., 5.])\n",
            "\n",
            "torch.Size([2, 2])\n",
            "torch.Size([2])\n"
          ]
        }
      ]
    },
    {
      "cell_type": "code",
      "source": [
        "z = x + y\n",
        "print(z)\n",
        "print(z.size())"
      ],
      "metadata": {
        "colab": {
          "base_uri": "https://localhost:8080/"
        },
        "id": "239bem74JjYc",
        "outputId": "2bcd0c1a-4de1-4532-8b7a-8c3b6c2c67ac"
      },
      "execution_count": 26,
      "outputs": [
        {
          "output_type": "stream",
          "name": "stdout",
          "text": [
            "tensor([[ 4.,  7.],\n",
            "        [ 7., 13.]])\n",
            "torch.Size([2, 2])\n"
          ]
        }
      ]
    },
    {
      "cell_type": "code",
      "source": [
        "x = torch.FloatTensor([[[1, 2]]])\n",
        "y = torch.FloatTensor([3,\n",
        "                       5])\n",
        "\n",
        "print(x)\n",
        "print(y)\n",
        "print()\n",
        "\n",
        "print(x.size())\n",
        "print(y.size())"
      ],
      "metadata": {
        "colab": {
          "base_uri": "https://localhost:8080/"
        },
        "id": "XTIyrjQxJkfN",
        "outputId": "89b22b67-159e-4773-f8a9-fe221506b94a"
      },
      "execution_count": 29,
      "outputs": [
        {
          "output_type": "stream",
          "name": "stdout",
          "text": [
            "tensor([[[1., 2.]]])\n",
            "tensor([3., 5.])\n",
            "\n",
            "torch.Size([1, 1, 2])\n",
            "torch.Size([2])\n"
          ]
        }
      ]
    },
    {
      "cell_type": "code",
      "source": [
        "x = torch.FloatTensor([[[1, 2], [3, 4]]])\n",
        "#바깥쪽 리스트가 첫번째 차원 >> 안에 몇개의 값이 들어있는지 세면 됨\n",
        "print(x.size())\n"
      ],
      "metadata": {
        "colab": {
          "base_uri": "https://localhost:8080/"
        },
        "id": "zHG_mIo8Jkdo",
        "outputId": "9643e8a0-fd7a-49af-b21b-b44c9e52555f"
      },
      "execution_count": 27,
      "outputs": [
        {
          "output_type": "stream",
          "name": "stdout",
          "text": [
            "torch.Size([1, 2, 2])\n"
          ]
        }
      ]
    },
    {
      "cell_type": "markdown",
      "source": [
        "Tensor + Tensor"
      ],
      "metadata": {
        "id": "wJZ7YPbMKPwE"
      }
    },
    {
      "cell_type": "code",
      "source": [
        "x = torch.FloatTensor([[1, 2]])\n",
        "y = torch.FloatTensor([[3],[5]])\n",
        "\n",
        "print(x)\n",
        "print(y)\n",
        "print()\n",
        "print(x.size())\n",
        "print(y.size())"
      ],
      "metadata": {
        "colab": {
          "base_uri": "https://localhost:8080/"
        },
        "id": "inTnrXP-Jkbz",
        "outputId": "2957183c-7518-4f5b-90e0-0475b2bd84ec"
      },
      "execution_count": 28,
      "outputs": [
        {
          "output_type": "stream",
          "name": "stdout",
          "text": [
            "tensor([[1., 2.]])\n",
            "tensor([[3.],\n",
            "        [5.]])\n",
            "\n",
            "torch.Size([1, 2])\n",
            "torch.Size([2, 1])\n"
          ]
        }
      ]
    },
    {
      "cell_type": "code",
      "source": [
        "x = torch.FloatTensor([[[1, 2],\n",
        "                        [4, 8]]])\n",
        "y = torch.FloatTensor([[1, 2, 3],\n",
        "                       [4, 5, 6],\n",
        "                       [7, 8, 9]])\n",
        "\n",
        "\n",
        "print(x)\n",
        "print(y)\n",
        "print()\n",
        "print(x.size()) # [1,2,2]\n",
        "print(y.size()) # [3,3]\n",
        "\n",
        "# z = x + y 사이즈가 안맞음"
      ],
      "metadata": {
        "colab": {
          "base_uri": "https://localhost:8080/"
        },
        "id": "zI8dpES7JkaH",
        "outputId": "a280ded2-20df-4815-b4b4-39c293c3b4b4"
      },
      "execution_count": 31,
      "outputs": [
        {
          "output_type": "stream",
          "name": "stdout",
          "text": [
            "tensor([[[1., 2.],\n",
            "         [4., 8.]]])\n",
            "tensor([[1., 2., 3.],\n",
            "        [4., 5., 6.],\n",
            "        [7., 8., 9.]])\n",
            "\n",
            "torch.Size([1, 2, 2])\n",
            "torch.Size([3, 3])\n"
          ]
        }
      ]
    },
    {
      "cell_type": "code",
      "source": [],
      "metadata": {
        "id": "7ECBSXq6JkYC"
      },
      "execution_count": null,
      "outputs": []
    },
    {
      "cell_type": "code",
      "source": [],
      "metadata": {
        "id": "m9D-UB5WJkWh"
      },
      "execution_count": null,
      "outputs": []
    },
    {
      "cell_type": "code",
      "source": [],
      "metadata": {
        "id": "Qd5oSqi_JkUD"
      },
      "execution_count": null,
      "outputs": []
    }
  ]
}