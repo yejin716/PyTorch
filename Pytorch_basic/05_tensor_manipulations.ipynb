{
  "nbformat": 4,
  "nbformat_minor": 0,
  "metadata": {
    "colab": {
      "provenance": []
    },
    "kernelspec": {
      "name": "python3",
      "display_name": "Python 3"
    },
    "language_info": {
      "name": "python"
    }
  },
  "cells": [
    {
      "cell_type": "code",
      "execution_count": 1,
      "metadata": {
        "id": "OaD3G1axK6y4"
      },
      "outputs": [],
      "source": [
        "import torch\n",
        "\n"
      ]
    },
    {
      "cell_type": "markdown",
      "source": [
        "## Tensor Shaping\n",
        "\n",
        "### reshape: Change Tensor Shape"
      ],
      "metadata": {
        "id": "4I7tauo1LBsX"
      }
    },
    {
      "cell_type": "code",
      "source": [
        "x = torch.FloatTensor([[[1, 2],\n",
        "                        [3, 4]],\n",
        "                       [[5, 6],\n",
        "                        [7, 8]],\n",
        "                       [[9, 10],\n",
        "                        [11, 12]]])\n",
        "print(x)\n",
        "print(x.size())"
      ],
      "metadata": {
        "colab": {
          "base_uri": "https://localhost:8080/"
        },
        "id": "Y9CWLfJxLCou",
        "outputId": "03f3f219-efec-4051-c22e-2ad7c7745474"
      },
      "execution_count": 2,
      "outputs": [
        {
          "output_type": "stream",
          "name": "stdout",
          "text": [
            "tensor([[[ 1.,  2.],\n",
            "         [ 3.,  4.]],\n",
            "\n",
            "        [[ 5.,  6.],\n",
            "         [ 7.,  8.]],\n",
            "\n",
            "        [[ 9., 10.],\n",
            "         [11., 12.]]])\n",
            "torch.Size([3, 2, 2])\n"
          ]
        }
      ]
    },
    {
      "cell_type": "code",
      "source": [
        "x.reshape(12)\n",
        "# 12 = 3 * 2 * 2 >> 1차원"
      ],
      "metadata": {
        "colab": {
          "base_uri": "https://localhost:8080/"
        },
        "id": "DALXxlwyLCm8",
        "outputId": "2d929c0a-fd98-48b3-f210-6f6e809cb89c"
      },
      "execution_count": 3,
      "outputs": [
        {
          "output_type": "execute_result",
          "data": {
            "text/plain": [
              "tensor([ 1.,  2.,  3.,  4.,  5.,  6.,  7.,  8.,  9., 10., 11., 12.])"
            ]
          },
          "metadata": {},
          "execution_count": 3
        }
      ]
    },
    {
      "cell_type": "code",
      "source": [
        "print(x.reshape(-1)) # -1은 1차원으로 변환함"
      ],
      "metadata": {
        "colab": {
          "base_uri": "https://localhost:8080/"
        },
        "id": "ScuTlNr6LCk8",
        "outputId": "96188bd2-f5e2-41d9-b880-0abb37d2b883"
      },
      "execution_count": 4,
      "outputs": [
        {
          "output_type": "stream",
          "name": "stdout",
          "text": [
            "tensor([ 1.,  2.,  3.,  4.,  5.,  6.,  7.,  8.,  9., 10., 11., 12.])\n"
          ]
        }
      ]
    },
    {
      "cell_type": "code",
      "source": [
        "print(x.reshape(3, 4))\n",
        "# 3 * 4 = (3 * 2 * 2) >> 2차원\n",
        "print(x.reshape(3, -1))"
      ],
      "metadata": {
        "colab": {
          "base_uri": "https://localhost:8080/"
        },
        "id": "SNShlLDTLCjd",
        "outputId": "fcdbf501-3bb9-4f26-f08b-992f8c76f7df"
      },
      "execution_count": 5,
      "outputs": [
        {
          "output_type": "stream",
          "name": "stdout",
          "text": [
            "tensor([[ 1.,  2.,  3.,  4.],\n",
            "        [ 5.,  6.,  7.,  8.],\n",
            "        [ 9., 10., 11., 12.]])\n",
            "tensor([[ 1.,  2.,  3.,  4.],\n",
            "        [ 5.,  6.,  7.,  8.],\n",
            "        [ 9., 10., 11., 12.]])\n"
          ]
        }
      ]
    },
    {
      "cell_type": "code",
      "source": [
        "print(x.reshape(3, 1, 4))\n",
        "# 12 = 3*1*4 >> 3차원\n",
        "print(x.reshape(-1, 1, 4))"
      ],
      "metadata": {
        "colab": {
          "base_uri": "https://localhost:8080/"
        },
        "id": "ketZUrf4LChy",
        "outputId": "d6dcc2e8-63ea-4c79-a416-250dd11d506a"
      },
      "execution_count": 6,
      "outputs": [
        {
          "output_type": "stream",
          "name": "stdout",
          "text": [
            "tensor([[[ 1.,  2.,  3.,  4.]],\n",
            "\n",
            "        [[ 5.,  6.,  7.,  8.]],\n",
            "\n",
            "        [[ 9., 10., 11., 12.]]])\n",
            "tensor([[[ 1.,  2.,  3.,  4.]],\n",
            "\n",
            "        [[ 5.,  6.,  7.,  8.]],\n",
            "\n",
            "        [[ 9., 10., 11., 12.]]])\n"
          ]
        }
      ]
    },
    {
      "cell_type": "code",
      "source": [
        "print(x.reshape(3, 2, 2, 1))\n",
        "# 12 = 3*2*2*1 >> 4차원\n",
        "# [[[[ 1.],[ 2.]],[[ 3.],[ 4.]]],[[[ 5.],[ 6.]],[[ 7.],[ 8.]]],[[[ 9.],[10.]],[[11.],[12.]]]]\n"
      ],
      "metadata": {
        "colab": {
          "base_uri": "https://localhost:8080/"
        },
        "id": "3HjLdmCvLCfz",
        "outputId": "6e2529e5-e9fd-4b26-d008-f2538adfb912"
      },
      "execution_count": 7,
      "outputs": [
        {
          "output_type": "stream",
          "name": "stdout",
          "text": [
            "tensor([[[[ 1.],\n",
            "          [ 2.]],\n",
            "\n",
            "         [[ 3.],\n",
            "          [ 4.]]],\n",
            "\n",
            "\n",
            "        [[[ 5.],\n",
            "          [ 6.]],\n",
            "\n",
            "         [[ 7.],\n",
            "          [ 8.]]],\n",
            "\n",
            "\n",
            "        [[[ 9.],\n",
            "          [10.]],\n",
            "\n",
            "         [[11.],\n",
            "          [12.]]]])\n"
          ]
        }
      ]
    },
    {
      "cell_type": "code",
      "source": [
        "### squeeze: Remove dimension which has only one element."
      ],
      "metadata": {
        "id": "4fFPb_PuLCeB"
      },
      "execution_count": 8,
      "outputs": []
    },
    {
      "cell_type": "code",
      "source": [
        "x = torch.FloatTensor([[[1, 2],\n",
        "                        [3, 4]]])\n",
        "\n",
        "print(x)\n",
        "print(x.size())"
      ],
      "metadata": {
        "colab": {
          "base_uri": "https://localhost:8080/"
        },
        "id": "0KoQ6v6TNWfE",
        "outputId": "73e91ee5-8036-4bc4-a490-744721846834"
      },
      "execution_count": 9,
      "outputs": [
        {
          "output_type": "stream",
          "name": "stdout",
          "text": [
            "tensor([[[1., 2.],\n",
            "         [3., 4.]]])\n",
            "torch.Size([1, 2, 2])\n"
          ]
        }
      ]
    },
    {
      "cell_type": "code",
      "source": [
        "# 1인 차원 제거\n",
        "print(x.squeeze())\n",
        "print(x.squeeze().size())\n"
      ],
      "metadata": {
        "colab": {
          "base_uri": "https://localhost:8080/"
        },
        "id": "aEFB5hHfNaA5",
        "outputId": "a1980c90-da44-40d7-f682-77303c9dd4e0"
      },
      "execution_count": 10,
      "outputs": [
        {
          "output_type": "stream",
          "name": "stdout",
          "text": [
            "tensor([[1., 2.],\n",
            "        [3., 4.]])\n",
            "torch.Size([2, 2])\n"
          ]
        }
      ]
    },
    {
      "cell_type": "markdown",
      "source": [
        "요소가 하나만 있는 경우 특정 차원을 제거합니다. 그렇지 않다면 아무런 변화도 없을 것입니다."
      ],
      "metadata": {
        "id": "jEdg23m8Np2m"
      }
    },
    {
      "cell_type": "code",
      "source": [
        "print(x)\n",
        "print(x.squeeze(0).size())\n",
        "# 0번 index '1' 존재 >> squeeze 가능\n",
        "print(x.squeeze(1).size())\n",
        "# 1번 index '1' 존재 하지 않음 (2임) >> squeeze 불가능"
      ],
      "metadata": {
        "colab": {
          "base_uri": "https://localhost:8080/"
        },
        "id": "XIbgs6FaNZ-7",
        "outputId": "de75dd88-67f6-4be1-fd70-5535234fcfaa"
      },
      "execution_count": 12,
      "outputs": [
        {
          "output_type": "stream",
          "name": "stdout",
          "text": [
            "tensor([[[1., 2.],\n",
            "         [3., 4.]]])\n",
            "torch.Size([2, 2])\n",
            "torch.Size([1, 2, 2])\n"
          ]
        }
      ]
    },
    {
      "cell_type": "markdown",
      "source": [
        "### unsqueeze: 특정 인덱스에 차원을 삽입합니다."
      ],
      "metadata": {
        "id": "MtAVcPY8N9jR"
      }
    },
    {
      "cell_type": "code",
      "source": [
        "x = torch.FloatTensor([[1, 2],\n",
        "                       [3, 4]])\n",
        "\n",
        "print(x)\n",
        "print(x.size())"
      ],
      "metadata": {
        "colab": {
          "base_uri": "https://localhost:8080/"
        },
        "id": "q7Q6g5SYN-HH",
        "outputId": "e3daeaf8-45ef-4952-e705-9fcdbc17aed1"
      },
      "execution_count": 20,
      "outputs": [
        {
          "output_type": "stream",
          "name": "stdout",
          "text": [
            "tensor([[1., 2.],\n",
            "        [3., 4.]])\n",
            "torch.Size([2, 2])\n"
          ]
        }
      ]
    },
    {
      "cell_type": "code",
      "source": [
        "# unsqueeze() : 특정 dimension에 '1' 더함 (차원 증가)\n",
        "print(x.unsqueeze(2))\n",
        "# 3번째 dimension에 '1' 첨가\n",
        "print(x.unsqueeze(2).size())\n",
        "\n",
        "print(x.unsqueeze(-1))\n",
        "# 마지막 dimension에 '1' 첨가\n",
        "print(x.unsqueeze(-1).size())"
      ],
      "metadata": {
        "colab": {
          "base_uri": "https://localhost:8080/"
        },
        "id": "1icOFSx7OBMG",
        "outputId": "7ce92b74-a42b-4132-d184-f474ab5c0ed6"
      },
      "execution_count": 15,
      "outputs": [
        {
          "output_type": "stream",
          "name": "stdout",
          "text": [
            "tensor([[[1.],\n",
            "         [2.]],\n",
            "\n",
            "        [[3.],\n",
            "         [4.]]])\n",
            "torch.Size([2, 2, 1])\n",
            "tensor([[[1.],\n",
            "         [2.]],\n",
            "\n",
            "        [[3.],\n",
            "         [4.]]])\n",
            "torch.Size([2, 2, 1])\n"
          ]
        }
      ]
    },
    {
      "cell_type": "code",
      "source": [
        "x = torch.FloatTensor([[[1, 2],\n",
        "                        [3, 4]]])\n",
        "print(x.unsqueeze(2).size())"
      ],
      "metadata": {
        "colab": {
          "base_uri": "https://localhost:8080/"
        },
        "id": "wREHUlfsOBKK",
        "outputId": "70babd74-a58a-4fe5-9fa6-38a6f3d82d3e"
      },
      "execution_count": 19,
      "outputs": [
        {
          "output_type": "stream",
          "name": "stdout",
          "text": [
            "torch.Size([1, 2, 1, 2])\n"
          ]
        }
      ]
    },
    {
      "cell_type": "code",
      "source": [
        "print(x.reshape(2, 2, -1))"
      ],
      "metadata": {
        "colab": {
          "base_uri": "https://localhost:8080/"
        },
        "id": "n7XWQGTLOBIC",
        "outputId": "67b184e9-fd8e-4061-b449-a7c69d4f6d5f"
      },
      "execution_count": 21,
      "outputs": [
        {
          "output_type": "stream",
          "name": "stdout",
          "text": [
            "tensor([[[1.],\n",
            "         [2.]],\n",
            "\n",
            "        [[3.],\n",
            "         [4.]]])\n"
          ]
        }
      ]
    },
    {
      "cell_type": "code",
      "source": [],
      "metadata": {
        "id": "gPiJGinJOBFj"
      },
      "execution_count": null,
      "outputs": []
    }
  ]
}