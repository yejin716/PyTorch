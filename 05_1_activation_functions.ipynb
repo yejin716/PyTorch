{
 "cells": [
  {
   "cell_type": "markdown",
   "metadata": {},
   "source": [
    "# Activation Functions"
   ]
  },
  {
   "cell_type": "code",
   "execution_count": 1,
   "metadata": {},
   "outputs": [],
   "source": [
    "import torch\n",
    "import torch.nn as nn\n",
    "\n",
    "from matplotlib import pyplot as plt"
   ]
  },
  {
   "cell_type": "code",
   "execution_count": 3,
   "metadata": {},
   "outputs": [
    {
     "data": {
      "text/plain": [
       "tensor([ 19.6451,  10.2517,   6.1812,  -2.5287,   3.2078,  -2.4831,  -0.8482,\n",
       "         -0.3848,   9.7971,   8.5409,  -0.4557,  17.9889,  -0.3505,  -8.6325,\n",
       "         19.3083, -25.5946,  -6.4080,  -7.3279, -12.6222,  -9.2570,  -4.2747,\n",
       "        -20.7343,   0.5982,  13.9152,  14.4516,   9.6507,   0.9355,   0.2596,\n",
       "         -0.3174,  -8.4603, -26.4256,  11.1737,   5.1525,  -3.8521,  15.9568,\n",
       "         -7.9403,   1.7684,   0.2639,   5.5220,   0.9590,   4.5493,  21.9696,\n",
       "          0.0468,   2.1530,  -4.4752,  -3.4834,  -0.0889,  -9.5716,  -4.1174,\n",
       "         -9.7233,  -3.1833,  -0.5100,   7.9427,  -2.7139,  -6.6284,   4.1170,\n",
       "         -2.8356,   8.2364,  -3.1404,   2.5046,   7.5618,   1.4680,  21.4458,\n",
       "          7.4224, -15.8110,   5.2452,  -6.7370,  -1.3408, -11.6966,   5.2171,\n",
       "         -9.3266,  12.8388,  -0.7120,  -7.8151,  10.4959,  -2.7627, -13.4477,\n",
       "         -9.9224,   8.3354, -11.9712,   2.5419, -10.1500,   9.2639,  13.3487,\n",
       "         -2.2715,  -1.6094,   8.4712,  -3.0169,  -5.0093,  -9.2619, -24.9266,\n",
       "        -12.8330,  -4.0756,  -0.6778,   4.2884,  -0.1371,  12.5112, -10.0232,\n",
       "         18.5691,   6.6198])"
      ]
     },
     "execution_count": 3,
     "metadata": {},
     "output_type": "execute_result"
    }
   ],
   "source": [
    "torch.randn(100) * 10"
   ]
  },
  {
   "cell_type": "code",
   "execution_count": 5,
   "metadata": {},
   "outputs": [
    {
     "data": {
      "text/plain": [
       "torch.return_types.sort(\n",
       "values=tensor([-22.3827, -20.3244, -14.7085, -14.3412, -13.8408, -13.0543, -13.0273,\n",
       "        -12.3497, -11.7634, -11.6484, -11.5357, -10.5397,  -9.8945,  -9.7469,\n",
       "         -8.9088,  -8.8513,  -8.7122,  -8.0720,  -7.8281,  -6.8864,  -6.8478,\n",
       "         -6.7775,  -6.6619,  -6.2101,  -5.9724,  -5.8136,  -5.6993,  -5.6077,\n",
       "         -5.4166,  -4.1739,  -3.9311,  -3.8794,  -3.6770,  -3.5974,  -3.5605,\n",
       "         -3.4305,  -3.4094,  -3.2182,  -3.1862,  -3.1039,  -3.0845,  -2.8932,\n",
       "         -2.8690,  -2.8563,  -2.7740,  -2.5190,  -2.0198,  -1.3376,  -1.1539,\n",
       "         -1.1472,  -0.6950,  -0.3848,  -0.2915,  -0.1577,  -0.1493,   0.2158,\n",
       "          0.8587,   0.9676,   1.2290,   2.0848,   2.0925,   2.4059,   2.5022,\n",
       "          2.5675,   2.5741,   2.7571,   2.9172,   2.9612,   3.0950,   3.2331,\n",
       "          3.4207,   5.3945,   6.0825,   6.6324,   6.9598,   7.1688,   7.3533,\n",
       "          7.6556,   7.6868,   7.7237,   7.9761,   8.8821,   9.4498,   9.7051,\n",
       "         10.0931,  11.2064,  11.7710,  12.2215,  13.6244,  14.3432,  14.8196,\n",
       "         15.4032,  16.1401,  16.4524,  17.4011,  17.5551,  18.2328,  19.3138,\n",
       "         19.7721,  21.6780]),\n",
       "indices=tensor([ 0, 90,  9, 56, 59, 47, 93, 43, 10, 83, 41, 14, 95, 86, 80, 39, 37, 85,\n",
       "         1, 33, 54,  6, 17, 69, 73, 87, 77, 61, 28, 60, 36, 38, 12, 15, 51, 62,\n",
       "        42, 70, 45, 52, 67, 75, 66, 58, 26, 81, 97, 18,  8, 53, 30, 84, 24, 68,\n",
       "        48, 16, 79, 13, 20, 65, 57,  3, 78, 82, 21,  4, 32, 76, 74, 92, 19, 40,\n",
       "        44, 63, 25, 23, 50, 88,  7, 31, 34, 49,  5,  2, 27, 98, 72, 89, 99, 55,\n",
       "        29, 96, 35, 64, 46, 94, 11, 91, 22, 71]))"
      ]
     },
     "execution_count": 5,
     "metadata": {},
     "output_type": "execute_result"
    }
   ],
   "source": [
    "torch.sort(torch.randn(100) * 10)"
   ]
  },
  {
   "cell_type": "code",
   "execution_count": 6,
   "metadata": {},
   "outputs": [
    {
     "data": {
      "text/plain": [
       "tensor([-22.8341, -21.6078, -20.8452, -20.4818, -20.0378, -17.6299, -16.4323,\n",
       "        -15.3774, -13.4595, -13.0534, -12.8231, -12.1741, -11.7992, -10.9653,\n",
       "        -10.6864,  -9.6581,  -9.6410,  -9.3884,  -8.9731,  -8.9210,  -8.7383,\n",
       "         -8.6040,  -8.0827,  -7.7654,  -7.4639,  -7.4533,  -7.4391,  -7.0736,\n",
       "         -6.9133,  -6.1510,  -6.0681,  -5.9206,  -5.8745,  -5.6850,  -5.4531,\n",
       "         -4.9358,  -4.7950,  -4.6209,  -4.4369,  -3.6141,  -3.5596,  -3.4592,\n",
       "         -3.2715,  -3.2258,  -3.2151,  -2.5086,  -2.1250,  -1.3572,  -1.2318,\n",
       "         -1.0885,  -0.5546,   0.1684,   0.5714,   0.8040,   1.5884,   1.7185,\n",
       "          4.3687,   4.8682,   4.9021,   4.9103,   5.0644,   5.1011,   5.1247,\n",
       "          5.5234,   5.5739,   6.4820,   6.6218,   6.6327,   6.6836,   6.8793,\n",
       "          6.9524,   7.1138,   7.5230,   7.6794,   7.8825,   8.1701,   8.3788,\n",
       "          9.1308,   9.3204,   9.4208,   9.5024,   9.5714,   9.6362,   9.7544,\n",
       "         10.2721,  11.9088,  12.4353,  13.1529,  14.8419,  15.3911,  15.6458,\n",
       "         18.8063,  21.2598,  21.6388,  22.5087,  22.6600,  22.7108,  24.8210,\n",
       "         27.0720,  29.3598])"
      ]
     },
     "execution_count": 6,
     "metadata": {},
     "output_type": "execute_result"
    }
   ],
   "source": [
    "torch.sort(torch.randn(100) * 10)[0]"
   ]
  },
  {
   "cell_type": "code",
   "execution_count": 7,
   "metadata": {},
   "outputs": [
    {
     "data": {
      "text/plain": [
       "tensor([-21.5422, -20.8919, -20.2153, -19.4341, -18.6331, -17.8100, -17.4563,\n",
       "        -16.7406, -15.9153, -15.7944, -15.7084, -15.4308, -13.0531, -12.5791,\n",
       "        -12.3846, -12.2487, -12.0572, -11.8576,  -9.0405,  -8.9389,  -8.6973,\n",
       "         -8.0441,  -7.9355,  -7.8903,  -7.8319,  -7.6317,  -7.6086,  -7.3581,\n",
       "         -7.0107,  -6.6918,  -6.1163,  -5.8373,  -5.0273,  -4.7641,  -4.7231,\n",
       "         -4.4659,  -4.2164,  -4.1835,  -3.8944,  -3.4666,  -3.3253,  -3.0843,\n",
       "         -2.4505,  -2.3104,  -1.7625,  -1.2631,  -0.9675,  -0.7627,  -0.7012,\n",
       "         -0.1350,   0.8084,   0.9573,   1.0864,   1.2738,   1.5514,   1.8794,\n",
       "          2.5343,   3.0844,   3.1597,   3.8530,   4.4378,   4.4994,   4.5107,\n",
       "          4.6355,   4.6914,   6.0514,   6.4481,   6.5512,   7.1776,   7.3646,\n",
       "          7.3669,   8.1384,   8.2706,   8.6785,   9.2114,   9.6074,  10.0126,\n",
       "         10.2967,  10.6161,  10.6627,  11.0690,  11.0708,  11.2338,  11.5357,\n",
       "         11.7978,  13.2230,  13.2907,  13.9298,  14.3850,  14.5564,  14.6053,\n",
       "         14.7885,  15.6612,  15.8498,  16.7535,  17.5515,  17.7223,  17.8025,\n",
       "         18.1505,  20.0479])"
      ]
     },
     "execution_count": 7,
     "metadata": {},
     "output_type": "execute_result"
    }
   ],
   "source": [
    "x = torch.sort(torch.randn(100) * 10)[0]\n",
    "\n",
    "x"
   ]
  },
  {
   "cell_type": "markdown",
   "metadata": {},
   "source": [
    "## Sigmoid\n",
    "\n",
    "$$\n",
    "\\sigma(x)=\\frac{1}{1+e^{-x}}\n",
    "$$"
   ]
  },
  {
   "cell_type": "code",
   "execution_count": 8,
   "metadata": {},
   "outputs": [
    {
     "name": "stdout",
     "output_type": "stream",
     "text": [
      "tensor([4.4089e-10, 8.4485e-10, 1.6619e-09, 3.6296e-09, 8.0865e-09, 1.8417e-08,\n",
      "        2.6232e-08, 5.3658e-08, 1.2249e-07, 1.3822e-07, 1.5064e-07, 1.9883e-07,\n",
      "        2.1434e-06, 3.4432e-06, 4.1825e-06, 4.7912e-06, 5.8026e-06, 7.0842e-06,\n",
      "        1.1849e-04, 1.3117e-04, 1.6700e-04, 3.2087e-04, 3.5770e-04, 3.7423e-04,\n",
      "        3.9672e-04, 4.8458e-04, 4.9594e-04, 6.3701e-04, 9.0139e-04, 1.2395e-03,\n",
      "        2.2018e-03, 2.9082e-03, 6.5138e-03, 8.4581e-03, 8.8091e-03, 1.1364e-02,\n",
      "        1.4537e-02, 1.5016e-02, 1.9949e-02, 3.0279e-02, 3.4715e-02, 4.3758e-02,\n",
      "        7.9401e-02, 9.0267e-02, 1.4648e-01, 2.2044e-01, 2.7538e-01, 3.1806e-01,\n",
      "        3.3154e-01, 4.6631e-01, 6.9178e-01, 7.2258e-01, 7.4770e-01, 7.8139e-01,\n",
      "        8.2511e-01, 8.6754e-01, 9.2651e-01, 9.5625e-01, 9.5929e-01, 9.7922e-01,\n",
      "        9.8832e-01, 9.8901e-01, 9.8913e-01, 9.9039e-01, 9.9091e-01, 9.9765e-01,\n",
      "        9.9842e-01, 9.9857e-01, 9.9924e-01, 9.9937e-01, 9.9937e-01, 9.9971e-01,\n",
      "        9.9974e-01, 9.9983e-01, 9.9990e-01, 9.9993e-01, 9.9996e-01, 9.9997e-01,\n",
      "        9.9998e-01, 9.9998e-01, 9.9998e-01, 9.9998e-01, 9.9999e-01, 9.9999e-01,\n",
      "        9.9999e-01, 1.0000e+00, 1.0000e+00, 1.0000e+00, 1.0000e+00, 1.0000e+00,\n",
      "        1.0000e+00, 1.0000e+00, 1.0000e+00, 1.0000e+00, 1.0000e+00, 1.0000e+00,\n",
      "        1.0000e+00, 1.0000e+00, 1.0000e+00, 1.0000e+00])\n"
     ]
    }
   ],
   "source": [
    "act = nn.Sigmoid()\n",
    "print(act(x))"
   ]
  },
  {
   "cell_type": "code",
   "execution_count": 9,
   "metadata": {
    "scrolled": true
   },
   "outputs": [
    {
     "name": "stdout",
     "output_type": "stream",
     "text": [
      "tensor([4.4089e-10, 8.4485e-10, 1.6619e-09, 3.6296e-09, 8.0865e-09, 1.8417e-08,\n",
      "        2.6232e-08, 5.3658e-08, 1.2249e-07, 1.3822e-07, 1.5064e-07, 1.9883e-07,\n",
      "        2.1434e-06, 3.4432e-06, 4.1825e-06, 4.7912e-06, 5.8026e-06, 7.0842e-06,\n",
      "        1.1849e-04, 1.3117e-04, 1.6700e-04, 3.2087e-04, 3.5770e-04, 3.7423e-04,\n",
      "        3.9672e-04, 4.8458e-04, 4.9594e-04, 6.3701e-04, 9.0139e-04, 1.2395e-03,\n",
      "        2.2018e-03, 2.9082e-03, 6.5138e-03, 8.4581e-03, 8.8091e-03, 1.1364e-02,\n",
      "        1.4537e-02, 1.5016e-02, 1.9949e-02, 3.0279e-02, 3.4715e-02, 4.3758e-02,\n",
      "        7.9401e-02, 9.0267e-02, 1.4648e-01, 2.2044e-01, 2.7538e-01, 3.1806e-01,\n",
      "        3.3154e-01, 4.6631e-01, 6.9178e-01, 7.2258e-01, 7.4770e-01, 7.8139e-01,\n",
      "        8.2511e-01, 8.6754e-01, 9.2651e-01, 9.5625e-01, 9.5929e-01, 9.7922e-01,\n",
      "        9.8832e-01, 9.8901e-01, 9.8913e-01, 9.9039e-01, 9.9091e-01, 9.9765e-01,\n",
      "        9.9842e-01, 9.9857e-01, 9.9924e-01, 9.9937e-01, 9.9937e-01, 9.9971e-01,\n",
      "        9.9974e-01, 9.9983e-01, 9.9990e-01, 9.9993e-01, 9.9996e-01, 9.9997e-01,\n",
      "        9.9998e-01, 9.9998e-01, 9.9998e-01, 9.9998e-01, 9.9999e-01, 9.9999e-01,\n",
      "        9.9999e-01, 1.0000e+00, 1.0000e+00, 1.0000e+00, 1.0000e+00, 1.0000e+00,\n",
      "        1.0000e+00, 1.0000e+00, 1.0000e+00, 1.0000e+00, 1.0000e+00, 1.0000e+00,\n",
      "        1.0000e+00, 1.0000e+00, 1.0000e+00, 1.0000e+00])\n"
     ]
    }
   ],
   "source": [
    "print(torch.sigmoid(x))"
   ]
  },
  {
   "cell_type": "code",
   "execution_count": 10,
   "metadata": {},
   "outputs": [
    {
     "data": {
      "image/png": "[encoded data removed]",
      "text/plain": [
       "<Figure size 640x480 with 1 Axes>"
      ]
     },
     "metadata": {},
     "output_type": "display_data"
    }
   ],
   "source": [
    "plt.plot(x.numpy(), torch.sigmoid(x).numpy())\n",
    "plt.show()"
   ]
  },
  {
   "cell_type": "markdown",
   "metadata": {},
   "source": [
    "## Hypoerbolic Tangent (TanH)\n",
    "\n",
    "$$\n",
    "\\text{tanh}(x)=\\frac{e^x-e^{-x}}{e^x+e^{-x}}\n",
    "$$"
   ]
  },
  {
   "cell_type": "code",
   "execution_count": 11,
   "metadata": {},
   "outputs": [
    {
     "name": "stdout",
     "output_type": "stream",
     "text": [
      "tensor([-1.0000, -1.0000, -1.0000, -1.0000, -1.0000, -1.0000, -1.0000, -1.0000,\n",
      "        -1.0000, -1.0000, -1.0000, -1.0000, -1.0000, -1.0000, -1.0000, -1.0000,\n",
      "        -1.0000, -1.0000, -1.0000, -1.0000, -1.0000, -1.0000, -1.0000, -1.0000,\n",
      "        -1.0000, -1.0000, -1.0000, -1.0000, -1.0000, -1.0000, -1.0000, -1.0000,\n",
      "        -0.9999, -0.9999, -0.9998, -0.9997, -0.9996, -0.9995, -0.9992, -0.9981,\n",
      "        -0.9974, -0.9958, -0.9852, -0.9805, -0.9428, -0.8519, -0.7476, -0.6427,\n",
      "        -0.6051, -0.1342,  0.6687,  0.7431,  0.7955,  0.8548,  0.9140,  0.9544,\n",
      "         0.9875,  0.9958,  0.9964,  0.9991,  0.9997,  0.9998,  0.9998,  0.9998,\n",
      "         0.9998,  1.0000,  1.0000,  1.0000,  1.0000,  1.0000,  1.0000,  1.0000,\n",
      "         1.0000,  1.0000,  1.0000,  1.0000,  1.0000,  1.0000,  1.0000,  1.0000,\n",
      "         1.0000,  1.0000,  1.0000,  1.0000,  1.0000,  1.0000,  1.0000,  1.0000,\n",
      "         1.0000,  1.0000,  1.0000,  1.0000,  1.0000,  1.0000,  1.0000,  1.0000,\n",
      "         1.0000,  1.0000,  1.0000,  1.0000])\n"
     ]
    }
   ],
   "source": [
    "act = nn.Tanh()\n",
    "print(act(x))"
   ]
  },
  {
   "cell_type": "code",
   "execution_count": 12,
   "metadata": {},
   "outputs": [
    {
     "name": "stdout",
     "output_type": "stream",
     "text": [
      "tensor([-1.0000, -1.0000, -1.0000, -1.0000, -1.0000, -1.0000, -1.0000, -1.0000,\n",
      "        -1.0000, -1.0000, -1.0000, -1.0000, -1.0000, -1.0000, -1.0000, -1.0000,\n",
      "        -1.0000, -1.0000, -1.0000, -1.0000, -1.0000, -1.0000, -1.0000, -1.0000,\n",
      "        -1.0000, -1.0000, -1.0000, -1.0000, -1.0000, -1.0000, -1.0000, -1.0000,\n",
      "        -0.9999, -0.9999, -0.9998, -0.9997, -0.9996, -0.9995, -0.9992, -0.9981,\n",
      "        -0.9974, -0.9958, -0.9852, -0.9805, -0.9428, -0.8519, -0.7476, -0.6427,\n",
      "        -0.6051, -0.1342,  0.6687,  0.7431,  0.7955,  0.8548,  0.9140,  0.9544,\n",
      "         0.9875,  0.9958,  0.9964,  0.9991,  0.9997,  0.9998,  0.9998,  0.9998,\n",
      "         0.9998,  1.0000,  1.0000,  1.0000,  1.0000,  1.0000,  1.0000,  1.0000,\n",
      "         1.0000,  1.0000,  1.0000,  1.0000,  1.0000,  1.0000,  1.0000,  1.0000,\n",
      "         1.0000,  1.0000,  1.0000,  1.0000,  1.0000,  1.0000,  1.0000,  1.0000,\n",
      "         1.0000,  1.0000,  1.0000,  1.0000,  1.0000,  1.0000,  1.0000,  1.0000,\n",
      "         1.0000,  1.0000,  1.0000,  1.0000])\n"
     ]
    }
   ],
   "source": [
    "print(torch.tanh(x))"
   ]
  },
  {
   "cell_type": "code",
   "execution_count": 13,
   "metadata": {},
   "outputs": [
    {
     "data": {
      "image/png": "[encoded data removed]",
      "text/plain": [
       "<Figure size 640x480 with 1 Axes>"
      ]
     },
     "metadata": {},
     "output_type": "display_data"
    }
   ],
   "source": [
    "plt.plot(x.numpy(), torch.tanh(x).numpy())\n",
    "plt.show()"
   ]
  },
  {
   "cell_type": "code",
   "execution_count": null,
   "metadata": {},
   "outputs": [],
   "source": []
  }
 ],
 "metadata": {
  "kernelspec": {
   "display_name": "Python 3",
   "language": "python",
   "name": "python3"
  },
  "language_info": {
   "codemirror_mode": {
    "name": "ipython",
    "version": 3
   },
   "file_extension": ".py",
   "mimetype": "text/x-python",
   "name": "python",
   "nbconvert_exporter": "python",
   "pygments_lexer": "ipython3",
   "version": "3.11.7"
  }
 },
 "nbformat": 4,
 "nbformat_minor": 2
}
